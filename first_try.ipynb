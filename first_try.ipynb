{
 "cells": [
  {
   "cell_type": "markdown",
   "metadata": {},
   "source": [
    "# 天池工业AI"
   ]
  },
  {
   "cell_type": "code",
   "execution_count": 38,
   "metadata": {
    "collapsed": true
   },
   "outputs": [],
   "source": [
    "import pandas as pd\n",
    "import numpy as np\n",
    "import matplotlib.pyplot as plt\n",
    "from datetime import datetime\n",
    "from pandas import Series, DataFrame\n",
    "import xgboost as xgb\n",
    "from sklearn.metrics import accuracy_score"
   ]
  },
  {
   "cell_type": "code",
   "execution_count": 39,
   "metadata": {
    "collapsed": true
   },
   "outputs": [],
   "source": [
    "import features_process\n",
    "\n",
    "%reload_ext autoreload\n",
    "%autoreload 2\n",
    "%matplotlib inline"
   ]
  },
  {
   "cell_type": "markdown",
   "metadata": {},
   "source": [
    "## 1. 特征工程"
   ]
  },
  {
   "cell_type": "markdown",
   "metadata": {},
   "source": [
    "### 1.1 读取数据"
   ]
  },
  {
   "cell_type": "code",
   "execution_count": 49,
   "metadata": {},
   "outputs": [
    {
     "name": "stdout",
     "output_type": "stream",
     "text": [
      "train shape:  (800, 5954)\n"
     ]
    }
   ],
   "source": [
    "#read data\n",
    "train_df = pd.read_excel('data/train_20180117.xlsx')\n",
    "test_df = pd.read_excel('data/testA_20180117.xlsx')\n",
    "print('train shape: ', train_df.shape)"
   ]
  },
  {
   "cell_type": "code",
   "execution_count": 141,
   "metadata": {},
   "outputs": [
    {
     "name": "stdout",
     "output_type": "stream",
     "text": [
      "data_df: (1100, 5954)\n"
     ]
    }
   ],
   "source": [
    "frames = [train_df, test_df]\n",
    "data_df = pd.concat(frames, join='outer',ignore_index = True)\n",
    "data_df = data_df.reindex_axis(train_df.columns, axis=1)\n",
    "print('data_df:',data_df.shape)"
   ]
  },
  {
   "cell_type": "markdown",
   "metadata": {},
   "source": [
    "### 1.2 缺失值"
   ]
  },
  {
   "cell_type": "markdown",
   "metadata": {},
   "source": [
    "**先获取全是数值变量的特征**"
   ]
  },
  {
   "cell_type": "code",
   "execution_count": 142,
   "metadata": {},
   "outputs": [
    {
     "name": "stdout",
     "output_type": "stream",
     "text": [
      "<class 'pandas.core.frame.DataFrame'>\n",
      "RangeIndex: 800 entries, 0 to 799\n",
      "Columns: 5954 entries, ID to Value\n",
      "dtypes: float64(5183), int64(759), object(12)\n",
      "memory usage: 36.3+ MB\n"
     ]
    }
   ],
   "source": [
    "train_df.info()"
   ]
  },
  {
   "cell_type": "code",
   "execution_count": 143,
   "metadata": {
    "collapsed": true
   },
   "outputs": [],
   "source": [
    "float64_col = features_process.obtain_x(train_df,'float64')\n",
    "int64_col = features_process.obtain_x(train_df,'int64')\n",
    "object_col = features_process.obtain_x(train_df,'object')\n",
    "values_col = np.append(int64_col,float64_col)\n",
    "\n",
    "values_df = train_df[values_col]"
   ]
  },
  {
   "cell_type": "markdown",
   "metadata": {},
   "source": [
    "\n",
    "**删除缺失值个数超过k=200的特征**"
   ]
  },
  {
   "cell_type": "code",
   "execution_count": 144,
   "metadata": {
    "scrolled": true
   },
   "outputs": [
    {
     "name": "stderr",
     "output_type": "stream",
     "text": [
      "C:\\Program Files\\setup\\Anaconda\\lib\\site-packages\\ipykernel_launcher.py:2: SettingWithCopyWarning: \n",
      "A value is trying to be set on a copy of a slice from a DataFrame\n",
      "\n",
      "See the caveats in the documentation: http://pandas.pydata.org/pandas-docs/stable/indexing.html#indexing-view-versus-copy\n",
      "  \n"
     ]
    },
    {
     "name": "stdout",
     "output_type": "stream",
     "text": [
      "(800, 5573)\n"
     ]
    }
   ],
   "source": [
    "missing_col = features_process.col_missing(values_df, k = 100)\n",
    "values_df.drop(missing_col,axis=1,inplace=True)\n",
    "print(values_df.shape)"
   ]
  },
  {
   "cell_type": "markdown",
   "metadata": {},
   "source": [
    "### 1.3 重复列\n",
    "**删除训练集中数据重复的列**"
   ]
  },
  {
   "cell_type": "code",
   "execution_count": 145,
   "metadata": {},
   "outputs": [
    {
     "name": "stdout",
     "output_type": "stream",
     "text": [
      "(800, 2762)\n"
     ]
    }
   ],
   "source": [
    "values_df = features_process.col_deoverlapping(values_df)\n",
    "print(values_df.shape)"
   ]
  },
  {
   "cell_type": "code",
   "execution_count": 146,
   "metadata": {
    "scrolled": false
   },
   "outputs": [
    {
     "name": "stdout",
     "output_type": "stream",
     "text": [
      "<class 'pandas.core.frame.DataFrame'>\n",
      "RangeIndex: 800 entries, 0 to 799\n",
      "Columns: 2762 entries, 210X17 to Value\n",
      "dtypes: float64(2434), int64(328)\n",
      "memory usage: 16.9 MB\n"
     ]
    },
    {
     "data": {
      "text/plain": [
       "(800, 2762)"
      ]
     },
     "execution_count": 146,
     "metadata": {},
     "output_type": "execute_result"
    }
   ],
   "source": [
    "values_df.info()\n",
    "values_df.shape"
   ]
  },
  {
   "cell_type": "markdown",
   "metadata": {},
   "source": [
    "### 1.4 日期列"
   ]
  },
  {
   "cell_type": "markdown",
   "metadata": {},
   "source": [
    "**获取并删除“日期”特征**"
   ]
  },
  {
   "cell_type": "code",
   "execution_count": 147,
   "metadata": {},
   "outputs": [
    {
     "data": {
      "text/plain": [
       "(800, 2683)"
      ]
     },
     "execution_count": 147,
     "metadata": {},
     "output_type": "execute_result"
    }
   ],
   "source": [
    "date_cols = features_process.date_cols(values_df)\n",
    "values_df.drop(date_cols,axis=1,inplace=True)\n",
    "values_df.shape"
   ]
  },
  {
   "cell_type": "markdown",
   "metadata": {},
   "source": [
    "### 1.5 缺失值填充"
   ]
  },
  {
   "cell_type": "markdown",
   "metadata": {},
   "source": [
    "**基于中位数填充缺失值**"
   ]
  },
  {
   "cell_type": "code",
   "execution_count": 121,
   "metadata": {
    "collapsed": true
   },
   "outputs": [],
   "source": [
    "values_df.to_csv('Bvalues_df.csv')"
   ]
  },
  {
   "cell_type": "code",
   "execution_count": 122,
   "metadata": {
    "collapsed": true,
    "scrolled": true
   },
   "outputs": [],
   "source": [
    "#显示哪些\"列\"存在缺失值\n",
    "#values_df.isnull().any()"
   ]
  },
  {
   "cell_type": "code",
   "execution_count": 123,
   "metadata": {},
   "outputs": [
    {
     "data": {
      "text/plain": [
       "(800, 2683)"
      ]
     },
     "execution_count": 123,
     "metadata": {},
     "output_type": "execute_result"
    }
   ],
   "source": [
    "values_df.isnull().values.shape"
   ]
  },
  {
   "cell_type": "code",
   "execution_count": 124,
   "metadata": {
    "scrolled": true
   },
   "outputs": [
    {
     "data": {
      "text/html": [
       "<div>\n",
       "<style>\n",
       "    .dataframe thead tr:only-child th {\n",
       "        text-align: right;\n",
       "    }\n",
       "\n",
       "    .dataframe thead th {\n",
       "        text-align: left;\n",
       "    }\n",
       "\n",
       "    .dataframe tbody tr th {\n",
       "        vertical-align: top;\n",
       "    }\n",
       "</style>\n",
       "<table border=\"1\" class=\"dataframe\">\n",
       "  <thead>\n",
       "    <tr style=\"text-align: right;\">\n",
       "      <th></th>\n",
       "      <th>210X17</th>\n",
       "      <th>210X19</th>\n",
       "      <th>ERROR:#N/A</th>\n",
       "      <th>210X21</th>\n",
       "      <th>210X31</th>\n",
       "      <th>210X36</th>\n",
       "      <th>210X77</th>\n",
       "      <th>210X80</th>\n",
       "      <th>210X199</th>\n",
       "      <th>210X214</th>\n",
       "      <th>...</th>\n",
       "      <th>750X1305</th>\n",
       "      <th>750X1313</th>\n",
       "      <th>750X1321</th>\n",
       "      <th>750X1329</th>\n",
       "      <th>750X1337</th>\n",
       "      <th>750X1356</th>\n",
       "      <th>750X1364</th>\n",
       "      <th>750X1383</th>\n",
       "      <th>750X1391</th>\n",
       "      <th>Value</th>\n",
       "    </tr>\n",
       "  </thead>\n",
       "  <tbody>\n",
       "    <tr>\n",
       "      <th>0</th>\n",
       "      <td>750</td>\n",
       "      <td>2</td>\n",
       "      <td>0</td>\n",
       "      <td>14</td>\n",
       "      <td>1</td>\n",
       "      <td>435</td>\n",
       "      <td>96</td>\n",
       "      <td>0</td>\n",
       "      <td>1</td>\n",
       "      <td>2</td>\n",
       "      <td>...</td>\n",
       "      <td>2.68</td>\n",
       "      <td>37.4</td>\n",
       "      <td>4.58</td>\n",
       "      <td>37.4</td>\n",
       "      <td>4.46</td>\n",
       "      <td>-12.7</td>\n",
       "      <td>1.66</td>\n",
       "      <td>149.7</td>\n",
       "      <td>49.7</td>\n",
       "      <td>2.814025</td>\n",
       "    </tr>\n",
       "    <tr>\n",
       "      <th>0</th>\n",
       "      <td>750</td>\n",
       "      <td>2</td>\n",
       "      <td>0</td>\n",
       "      <td>14</td>\n",
       "      <td>1</td>\n",
       "      <td>435</td>\n",
       "      <td>96</td>\n",
       "      <td>0</td>\n",
       "      <td>1</td>\n",
       "      <td>2</td>\n",
       "      <td>...</td>\n",
       "      <td>2.68</td>\n",
       "      <td>37.4</td>\n",
       "      <td>4.58</td>\n",
       "      <td>37.4</td>\n",
       "      <td>4.46</td>\n",
       "      <td>-12.7</td>\n",
       "      <td>1.66</td>\n",
       "      <td>149.7</td>\n",
       "      <td>49.7</td>\n",
       "      <td>2.814025</td>\n",
       "    </tr>\n",
       "    <tr>\n",
       "      <th>0</th>\n",
       "      <td>750</td>\n",
       "      <td>2</td>\n",
       "      <td>0</td>\n",
       "      <td>14</td>\n",
       "      <td>1</td>\n",
       "      <td>435</td>\n",
       "      <td>96</td>\n",
       "      <td>0</td>\n",
       "      <td>1</td>\n",
       "      <td>2</td>\n",
       "      <td>...</td>\n",
       "      <td>2.68</td>\n",
       "      <td>37.4</td>\n",
       "      <td>4.58</td>\n",
       "      <td>37.4</td>\n",
       "      <td>4.46</td>\n",
       "      <td>-12.7</td>\n",
       "      <td>1.66</td>\n",
       "      <td>149.7</td>\n",
       "      <td>49.7</td>\n",
       "      <td>2.814025</td>\n",
       "    </tr>\n",
       "    <tr>\n",
       "      <th>0</th>\n",
       "      <td>750</td>\n",
       "      <td>2</td>\n",
       "      <td>0</td>\n",
       "      <td>14</td>\n",
       "      <td>1</td>\n",
       "      <td>435</td>\n",
       "      <td>96</td>\n",
       "      <td>0</td>\n",
       "      <td>1</td>\n",
       "      <td>2</td>\n",
       "      <td>...</td>\n",
       "      <td>2.68</td>\n",
       "      <td>37.4</td>\n",
       "      <td>4.58</td>\n",
       "      <td>37.4</td>\n",
       "      <td>4.46</td>\n",
       "      <td>-12.7</td>\n",
       "      <td>1.66</td>\n",
       "      <td>149.7</td>\n",
       "      <td>49.7</td>\n",
       "      <td>2.814025</td>\n",
       "    </tr>\n",
       "    <tr>\n",
       "      <th>0</th>\n",
       "      <td>750</td>\n",
       "      <td>2</td>\n",
       "      <td>0</td>\n",
       "      <td>14</td>\n",
       "      <td>1</td>\n",
       "      <td>435</td>\n",
       "      <td>96</td>\n",
       "      <td>0</td>\n",
       "      <td>1</td>\n",
       "      <td>2</td>\n",
       "      <td>...</td>\n",
       "      <td>2.68</td>\n",
       "      <td>37.4</td>\n",
       "      <td>4.58</td>\n",
       "      <td>37.4</td>\n",
       "      <td>4.46</td>\n",
       "      <td>-12.7</td>\n",
       "      <td>1.66</td>\n",
       "      <td>149.7</td>\n",
       "      <td>49.7</td>\n",
       "      <td>2.814025</td>\n",
       "    </tr>\n",
       "    <tr>\n",
       "      <th>2</th>\n",
       "      <td>750</td>\n",
       "      <td>2</td>\n",
       "      <td>0</td>\n",
       "      <td>14</td>\n",
       "      <td>1</td>\n",
       "      <td>435</td>\n",
       "      <td>96</td>\n",
       "      <td>0</td>\n",
       "      <td>1</td>\n",
       "      <td>2</td>\n",
       "      <td>...</td>\n",
       "      <td>2.68</td>\n",
       "      <td>37.4</td>\n",
       "      <td>4.59</td>\n",
       "      <td>37.4</td>\n",
       "      <td>4.46</td>\n",
       "      <td>-12.7</td>\n",
       "      <td>1.66</td>\n",
       "      <td>149.7</td>\n",
       "      <td>49.8</td>\n",
       "      <td>2.725973</td>\n",
       "    </tr>\n",
       "    <tr>\n",
       "      <th>2</th>\n",
       "      <td>750</td>\n",
       "      <td>2</td>\n",
       "      <td>0</td>\n",
       "      <td>14</td>\n",
       "      <td>1</td>\n",
       "      <td>435</td>\n",
       "      <td>96</td>\n",
       "      <td>0</td>\n",
       "      <td>1</td>\n",
       "      <td>2</td>\n",
       "      <td>...</td>\n",
       "      <td>2.68</td>\n",
       "      <td>37.4</td>\n",
       "      <td>4.59</td>\n",
       "      <td>37.4</td>\n",
       "      <td>4.46</td>\n",
       "      <td>-12.7</td>\n",
       "      <td>1.66</td>\n",
       "      <td>149.7</td>\n",
       "      <td>49.8</td>\n",
       "      <td>2.725973</td>\n",
       "    </tr>\n",
       "    <tr>\n",
       "      <th>2</th>\n",
       "      <td>750</td>\n",
       "      <td>2</td>\n",
       "      <td>0</td>\n",
       "      <td>14</td>\n",
       "      <td>1</td>\n",
       "      <td>435</td>\n",
       "      <td>96</td>\n",
       "      <td>0</td>\n",
       "      <td>1</td>\n",
       "      <td>2</td>\n",
       "      <td>...</td>\n",
       "      <td>2.68</td>\n",
       "      <td>37.4</td>\n",
       "      <td>4.59</td>\n",
       "      <td>37.4</td>\n",
       "      <td>4.46</td>\n",
       "      <td>-12.7</td>\n",
       "      <td>1.66</td>\n",
       "      <td>149.7</td>\n",
       "      <td>49.8</td>\n",
       "      <td>2.725973</td>\n",
       "    </tr>\n",
       "    <tr>\n",
       "      <th>2</th>\n",
       "      <td>750</td>\n",
       "      <td>2</td>\n",
       "      <td>0</td>\n",
       "      <td>14</td>\n",
       "      <td>1</td>\n",
       "      <td>435</td>\n",
       "      <td>96</td>\n",
       "      <td>0</td>\n",
       "      <td>1</td>\n",
       "      <td>2</td>\n",
       "      <td>...</td>\n",
       "      <td>2.68</td>\n",
       "      <td>37.4</td>\n",
       "      <td>4.59</td>\n",
       "      <td>37.4</td>\n",
       "      <td>4.46</td>\n",
       "      <td>-12.7</td>\n",
       "      <td>1.66</td>\n",
       "      <td>149.7</td>\n",
       "      <td>49.8</td>\n",
       "      <td>2.725973</td>\n",
       "    </tr>\n",
       "    <tr>\n",
       "      <th>2</th>\n",
       "      <td>750</td>\n",
       "      <td>2</td>\n",
       "      <td>0</td>\n",
       "      <td>14</td>\n",
       "      <td>1</td>\n",
       "      <td>435</td>\n",
       "      <td>96</td>\n",
       "      <td>0</td>\n",
       "      <td>1</td>\n",
       "      <td>2</td>\n",
       "      <td>...</td>\n",
       "      <td>2.68</td>\n",
       "      <td>37.4</td>\n",
       "      <td>4.59</td>\n",
       "      <td>37.4</td>\n",
       "      <td>4.46</td>\n",
       "      <td>-12.7</td>\n",
       "      <td>1.66</td>\n",
       "      <td>149.7</td>\n",
       "      <td>49.8</td>\n",
       "      <td>2.725973</td>\n",
       "    </tr>\n",
       "    <tr>\n",
       "      <th>2</th>\n",
       "      <td>750</td>\n",
       "      <td>2</td>\n",
       "      <td>0</td>\n",
       "      <td>14</td>\n",
       "      <td>1</td>\n",
       "      <td>435</td>\n",
       "      <td>96</td>\n",
       "      <td>0</td>\n",
       "      <td>1</td>\n",
       "      <td>2</td>\n",
       "      <td>...</td>\n",
       "      <td>2.68</td>\n",
       "      <td>37.4</td>\n",
       "      <td>4.59</td>\n",
       "      <td>37.4</td>\n",
       "      <td>4.46</td>\n",
       "      <td>-12.7</td>\n",
       "      <td>1.66</td>\n",
       "      <td>149.7</td>\n",
       "      <td>49.8</td>\n",
       "      <td>2.725973</td>\n",
       "    </tr>\n",
       "    <tr>\n",
       "      <th>2</th>\n",
       "      <td>750</td>\n",
       "      <td>2</td>\n",
       "      <td>0</td>\n",
       "      <td>14</td>\n",
       "      <td>1</td>\n",
       "      <td>435</td>\n",
       "      <td>96</td>\n",
       "      <td>0</td>\n",
       "      <td>1</td>\n",
       "      <td>2</td>\n",
       "      <td>...</td>\n",
       "      <td>2.68</td>\n",
       "      <td>37.4</td>\n",
       "      <td>4.59</td>\n",
       "      <td>37.4</td>\n",
       "      <td>4.46</td>\n",
       "      <td>-12.7</td>\n",
       "      <td>1.66</td>\n",
       "      <td>149.7</td>\n",
       "      <td>49.8</td>\n",
       "      <td>2.725973</td>\n",
       "    </tr>\n",
       "    <tr>\n",
       "      <th>4</th>\n",
       "      <td>750</td>\n",
       "      <td>2</td>\n",
       "      <td>0</td>\n",
       "      <td>14</td>\n",
       "      <td>1</td>\n",
       "      <td>445</td>\n",
       "      <td>96</td>\n",
       "      <td>0</td>\n",
       "      <td>1</td>\n",
       "      <td>2</td>\n",
       "      <td>...</td>\n",
       "      <td>2.67</td>\n",
       "      <td>37.2</td>\n",
       "      <td>4.56</td>\n",
       "      <td>37.2</td>\n",
       "      <td>4.43</td>\n",
       "      <td>-12.7</td>\n",
       "      <td>1.65</td>\n",
       "      <td>149.7</td>\n",
       "      <td>49.7</td>\n",
       "      <td>2.787539</td>\n",
       "    </tr>\n",
       "    <tr>\n",
       "      <th>4</th>\n",
       "      <td>750</td>\n",
       "      <td>2</td>\n",
       "      <td>0</td>\n",
       "      <td>14</td>\n",
       "      <td>1</td>\n",
       "      <td>445</td>\n",
       "      <td>96</td>\n",
       "      <td>0</td>\n",
       "      <td>1</td>\n",
       "      <td>2</td>\n",
       "      <td>...</td>\n",
       "      <td>2.67</td>\n",
       "      <td>37.2</td>\n",
       "      <td>4.56</td>\n",
       "      <td>37.2</td>\n",
       "      <td>4.43</td>\n",
       "      <td>-12.7</td>\n",
       "      <td>1.65</td>\n",
       "      <td>149.7</td>\n",
       "      <td>49.7</td>\n",
       "      <td>2.787539</td>\n",
       "    </tr>\n",
       "    <tr>\n",
       "      <th>4</th>\n",
       "      <td>750</td>\n",
       "      <td>2</td>\n",
       "      <td>0</td>\n",
       "      <td>14</td>\n",
       "      <td>1</td>\n",
       "      <td>445</td>\n",
       "      <td>96</td>\n",
       "      <td>0</td>\n",
       "      <td>1</td>\n",
       "      <td>2</td>\n",
       "      <td>...</td>\n",
       "      <td>2.67</td>\n",
       "      <td>37.2</td>\n",
       "      <td>4.56</td>\n",
       "      <td>37.2</td>\n",
       "      <td>4.43</td>\n",
       "      <td>-12.7</td>\n",
       "      <td>1.65</td>\n",
       "      <td>149.7</td>\n",
       "      <td>49.7</td>\n",
       "      <td>2.787539</td>\n",
       "    </tr>\n",
       "    <tr>\n",
       "      <th>4</th>\n",
       "      <td>750</td>\n",
       "      <td>2</td>\n",
       "      <td>0</td>\n",
       "      <td>14</td>\n",
       "      <td>1</td>\n",
       "      <td>445</td>\n",
       "      <td>96</td>\n",
       "      <td>0</td>\n",
       "      <td>1</td>\n",
       "      <td>2</td>\n",
       "      <td>...</td>\n",
       "      <td>2.67</td>\n",
       "      <td>37.2</td>\n",
       "      <td>4.56</td>\n",
       "      <td>37.2</td>\n",
       "      <td>4.43</td>\n",
       "      <td>-12.7</td>\n",
       "      <td>1.65</td>\n",
       "      <td>149.7</td>\n",
       "      <td>49.7</td>\n",
       "      <td>2.787539</td>\n",
       "    </tr>\n",
       "    <tr>\n",
       "      <th>4</th>\n",
       "      <td>750</td>\n",
       "      <td>2</td>\n",
       "      <td>0</td>\n",
       "      <td>14</td>\n",
       "      <td>1</td>\n",
       "      <td>445</td>\n",
       "      <td>96</td>\n",
       "      <td>0</td>\n",
       "      <td>1</td>\n",
       "      <td>2</td>\n",
       "      <td>...</td>\n",
       "      <td>2.67</td>\n",
       "      <td>37.2</td>\n",
       "      <td>4.56</td>\n",
       "      <td>37.2</td>\n",
       "      <td>4.43</td>\n",
       "      <td>-12.7</td>\n",
       "      <td>1.65</td>\n",
       "      <td>149.7</td>\n",
       "      <td>49.7</td>\n",
       "      <td>2.787539</td>\n",
       "    </tr>\n",
       "    <tr>\n",
       "      <th>4</th>\n",
       "      <td>750</td>\n",
       "      <td>2</td>\n",
       "      <td>0</td>\n",
       "      <td>14</td>\n",
       "      <td>1</td>\n",
       "      <td>445</td>\n",
       "      <td>96</td>\n",
       "      <td>0</td>\n",
       "      <td>1</td>\n",
       "      <td>2</td>\n",
       "      <td>...</td>\n",
       "      <td>2.67</td>\n",
       "      <td>37.2</td>\n",
       "      <td>4.56</td>\n",
       "      <td>37.2</td>\n",
       "      <td>4.43</td>\n",
       "      <td>-12.7</td>\n",
       "      <td>1.65</td>\n",
       "      <td>149.7</td>\n",
       "      <td>49.7</td>\n",
       "      <td>2.787539</td>\n",
       "    </tr>\n",
       "    <tr>\n",
       "      <th>4</th>\n",
       "      <td>750</td>\n",
       "      <td>2</td>\n",
       "      <td>0</td>\n",
       "      <td>14</td>\n",
       "      <td>1</td>\n",
       "      <td>445</td>\n",
       "      <td>96</td>\n",
       "      <td>0</td>\n",
       "      <td>1</td>\n",
       "      <td>2</td>\n",
       "      <td>...</td>\n",
       "      <td>2.67</td>\n",
       "      <td>37.2</td>\n",
       "      <td>4.56</td>\n",
       "      <td>37.2</td>\n",
       "      <td>4.43</td>\n",
       "      <td>-12.7</td>\n",
       "      <td>1.65</td>\n",
       "      <td>149.7</td>\n",
       "      <td>49.7</td>\n",
       "      <td>2.787539</td>\n",
       "    </tr>\n",
       "    <tr>\n",
       "      <th>4</th>\n",
       "      <td>750</td>\n",
       "      <td>2</td>\n",
       "      <td>0</td>\n",
       "      <td>14</td>\n",
       "      <td>1</td>\n",
       "      <td>445</td>\n",
       "      <td>96</td>\n",
       "      <td>0</td>\n",
       "      <td>1</td>\n",
       "      <td>2</td>\n",
       "      <td>...</td>\n",
       "      <td>2.67</td>\n",
       "      <td>37.2</td>\n",
       "      <td>4.56</td>\n",
       "      <td>37.2</td>\n",
       "      <td>4.43</td>\n",
       "      <td>-12.7</td>\n",
       "      <td>1.65</td>\n",
       "      <td>149.7</td>\n",
       "      <td>49.7</td>\n",
       "      <td>2.787539</td>\n",
       "    </tr>\n",
       "    <tr>\n",
       "      <th>4</th>\n",
       "      <td>750</td>\n",
       "      <td>2</td>\n",
       "      <td>0</td>\n",
       "      <td>14</td>\n",
       "      <td>1</td>\n",
       "      <td>445</td>\n",
       "      <td>96</td>\n",
       "      <td>0</td>\n",
       "      <td>1</td>\n",
       "      <td>2</td>\n",
       "      <td>...</td>\n",
       "      <td>2.67</td>\n",
       "      <td>37.2</td>\n",
       "      <td>4.56</td>\n",
       "      <td>37.2</td>\n",
       "      <td>4.43</td>\n",
       "      <td>-12.7</td>\n",
       "      <td>1.65</td>\n",
       "      <td>149.7</td>\n",
       "      <td>49.7</td>\n",
       "      <td>2.787539</td>\n",
       "    </tr>\n",
       "    <tr>\n",
       "      <th>4</th>\n",
       "      <td>750</td>\n",
       "      <td>2</td>\n",
       "      <td>0</td>\n",
       "      <td>14</td>\n",
       "      <td>1</td>\n",
       "      <td>445</td>\n",
       "      <td>96</td>\n",
       "      <td>0</td>\n",
       "      <td>1</td>\n",
       "      <td>2</td>\n",
       "      <td>...</td>\n",
       "      <td>2.67</td>\n",
       "      <td>37.2</td>\n",
       "      <td>4.56</td>\n",
       "      <td>37.2</td>\n",
       "      <td>4.43</td>\n",
       "      <td>-12.7</td>\n",
       "      <td>1.65</td>\n",
       "      <td>149.7</td>\n",
       "      <td>49.7</td>\n",
       "      <td>2.787539</td>\n",
       "    </tr>\n",
       "    <tr>\n",
       "      <th>5</th>\n",
       "      <td>750</td>\n",
       "      <td>2</td>\n",
       "      <td>0</td>\n",
       "      <td>14</td>\n",
       "      <td>1</td>\n",
       "      <td>425</td>\n",
       "      <td>96</td>\n",
       "      <td>0</td>\n",
       "      <td>1</td>\n",
       "      <td>2</td>\n",
       "      <td>...</td>\n",
       "      <td>2.67</td>\n",
       "      <td>37.2</td>\n",
       "      <td>4.56</td>\n",
       "      <td>37.2</td>\n",
       "      <td>4.44</td>\n",
       "      <td>-12.7</td>\n",
       "      <td>1.65</td>\n",
       "      <td>149.7</td>\n",
       "      <td>49.8</td>\n",
       "      <td>2.569175</td>\n",
       "    </tr>\n",
       "    <tr>\n",
       "      <th>6</th>\n",
       "      <td>750</td>\n",
       "      <td>2</td>\n",
       "      <td>0</td>\n",
       "      <td>14</td>\n",
       "      <td>1</td>\n",
       "      <td>440</td>\n",
       "      <td>96</td>\n",
       "      <td>0</td>\n",
       "      <td>1</td>\n",
       "      <td>2</td>\n",
       "      <td>...</td>\n",
       "      <td>2.69</td>\n",
       "      <td>37.3</td>\n",
       "      <td>4.58</td>\n",
       "      <td>37.3</td>\n",
       "      <td>4.46</td>\n",
       "      <td>-12.7</td>\n",
       "      <td>1.65</td>\n",
       "      <td>149.7</td>\n",
       "      <td>49.7</td>\n",
       "      <td>2.965824</td>\n",
       "    </tr>\n",
       "    <tr>\n",
       "      <th>6</th>\n",
       "      <td>750</td>\n",
       "      <td>2</td>\n",
       "      <td>0</td>\n",
       "      <td>14</td>\n",
       "      <td>1</td>\n",
       "      <td>440</td>\n",
       "      <td>96</td>\n",
       "      <td>0</td>\n",
       "      <td>1</td>\n",
       "      <td>2</td>\n",
       "      <td>...</td>\n",
       "      <td>2.69</td>\n",
       "      <td>37.3</td>\n",
       "      <td>4.58</td>\n",
       "      <td>37.3</td>\n",
       "      <td>4.46</td>\n",
       "      <td>-12.7</td>\n",
       "      <td>1.65</td>\n",
       "      <td>149.7</td>\n",
       "      <td>49.7</td>\n",
       "      <td>2.965824</td>\n",
       "    </tr>\n",
       "    <tr>\n",
       "      <th>6</th>\n",
       "      <td>750</td>\n",
       "      <td>2</td>\n",
       "      <td>0</td>\n",
       "      <td>14</td>\n",
       "      <td>1</td>\n",
       "      <td>440</td>\n",
       "      <td>96</td>\n",
       "      <td>0</td>\n",
       "      <td>1</td>\n",
       "      <td>2</td>\n",
       "      <td>...</td>\n",
       "      <td>2.69</td>\n",
       "      <td>37.3</td>\n",
       "      <td>4.58</td>\n",
       "      <td>37.3</td>\n",
       "      <td>4.46</td>\n",
       "      <td>-12.7</td>\n",
       "      <td>1.65</td>\n",
       "      <td>149.7</td>\n",
       "      <td>49.7</td>\n",
       "      <td>2.965824</td>\n",
       "    </tr>\n",
       "    <tr>\n",
       "      <th>6</th>\n",
       "      <td>750</td>\n",
       "      <td>2</td>\n",
       "      <td>0</td>\n",
       "      <td>14</td>\n",
       "      <td>1</td>\n",
       "      <td>440</td>\n",
       "      <td>96</td>\n",
       "      <td>0</td>\n",
       "      <td>1</td>\n",
       "      <td>2</td>\n",
       "      <td>...</td>\n",
       "      <td>2.69</td>\n",
       "      <td>37.3</td>\n",
       "      <td>4.58</td>\n",
       "      <td>37.3</td>\n",
       "      <td>4.46</td>\n",
       "      <td>-12.7</td>\n",
       "      <td>1.65</td>\n",
       "      <td>149.7</td>\n",
       "      <td>49.7</td>\n",
       "      <td>2.965824</td>\n",
       "    </tr>\n",
       "    <tr>\n",
       "      <th>6</th>\n",
       "      <td>750</td>\n",
       "      <td>2</td>\n",
       "      <td>0</td>\n",
       "      <td>14</td>\n",
       "      <td>1</td>\n",
       "      <td>440</td>\n",
       "      <td>96</td>\n",
       "      <td>0</td>\n",
       "      <td>1</td>\n",
       "      <td>2</td>\n",
       "      <td>...</td>\n",
       "      <td>2.69</td>\n",
       "      <td>37.3</td>\n",
       "      <td>4.58</td>\n",
       "      <td>37.3</td>\n",
       "      <td>4.46</td>\n",
       "      <td>-12.7</td>\n",
       "      <td>1.65</td>\n",
       "      <td>149.7</td>\n",
       "      <td>49.7</td>\n",
       "      <td>2.965824</td>\n",
       "    </tr>\n",
       "    <tr>\n",
       "      <th>6</th>\n",
       "      <td>750</td>\n",
       "      <td>2</td>\n",
       "      <td>0</td>\n",
       "      <td>14</td>\n",
       "      <td>1</td>\n",
       "      <td>440</td>\n",
       "      <td>96</td>\n",
       "      <td>0</td>\n",
       "      <td>1</td>\n",
       "      <td>2</td>\n",
       "      <td>...</td>\n",
       "      <td>2.69</td>\n",
       "      <td>37.3</td>\n",
       "      <td>4.58</td>\n",
       "      <td>37.3</td>\n",
       "      <td>4.46</td>\n",
       "      <td>-12.7</td>\n",
       "      <td>1.65</td>\n",
       "      <td>149.7</td>\n",
       "      <td>49.7</td>\n",
       "      <td>2.965824</td>\n",
       "    </tr>\n",
       "    <tr>\n",
       "      <th>6</th>\n",
       "      <td>750</td>\n",
       "      <td>2</td>\n",
       "      <td>0</td>\n",
       "      <td>14</td>\n",
       "      <td>1</td>\n",
       "      <td>440</td>\n",
       "      <td>96</td>\n",
       "      <td>0</td>\n",
       "      <td>1</td>\n",
       "      <td>2</td>\n",
       "      <td>...</td>\n",
       "      <td>2.69</td>\n",
       "      <td>37.3</td>\n",
       "      <td>4.58</td>\n",
       "      <td>37.3</td>\n",
       "      <td>4.46</td>\n",
       "      <td>-12.7</td>\n",
       "      <td>1.65</td>\n",
       "      <td>149.7</td>\n",
       "      <td>49.7</td>\n",
       "      <td>2.965824</td>\n",
       "    </tr>\n",
       "    <tr>\n",
       "      <th>...</th>\n",
       "      <td>...</td>\n",
       "      <td>...</td>\n",
       "      <td>...</td>\n",
       "      <td>...</td>\n",
       "      <td>...</td>\n",
       "      <td>...</td>\n",
       "      <td>...</td>\n",
       "      <td>...</td>\n",
       "      <td>...</td>\n",
       "      <td>...</td>\n",
       "      <td>...</td>\n",
       "      <td>...</td>\n",
       "      <td>...</td>\n",
       "      <td>...</td>\n",
       "      <td>...</td>\n",
       "      <td>...</td>\n",
       "      <td>...</td>\n",
       "      <td>...</td>\n",
       "      <td>...</td>\n",
       "      <td>...</td>\n",
       "      <td>...</td>\n",
       "    </tr>\n",
       "    <tr>\n",
       "      <th>792</th>\n",
       "      <td>750</td>\n",
       "      <td>2</td>\n",
       "      <td>0</td>\n",
       "      <td>14</td>\n",
       "      <td>1</td>\n",
       "      <td>460</td>\n",
       "      <td>96</td>\n",
       "      <td>0</td>\n",
       "      <td>1</td>\n",
       "      <td>2</td>\n",
       "      <td>...</td>\n",
       "      <td>2.64</td>\n",
       "      <td>36.8</td>\n",
       "      <td>4.53</td>\n",
       "      <td>37.3</td>\n",
       "      <td>4.49</td>\n",
       "      <td>-16.8</td>\n",
       "      <td>2.06</td>\n",
       "      <td>149.8</td>\n",
       "      <td>50.0</td>\n",
       "      <td>2.952017</td>\n",
       "    </tr>\n",
       "    <tr>\n",
       "      <th>792</th>\n",
       "      <td>750</td>\n",
       "      <td>2</td>\n",
       "      <td>0</td>\n",
       "      <td>14</td>\n",
       "      <td>1</td>\n",
       "      <td>460</td>\n",
       "      <td>96</td>\n",
       "      <td>0</td>\n",
       "      <td>1</td>\n",
       "      <td>2</td>\n",
       "      <td>...</td>\n",
       "      <td>2.64</td>\n",
       "      <td>36.8</td>\n",
       "      <td>4.53</td>\n",
       "      <td>37.3</td>\n",
       "      <td>4.49</td>\n",
       "      <td>-16.8</td>\n",
       "      <td>2.06</td>\n",
       "      <td>149.8</td>\n",
       "      <td>50.0</td>\n",
       "      <td>2.952017</td>\n",
       "    </tr>\n",
       "    <tr>\n",
       "      <th>792</th>\n",
       "      <td>750</td>\n",
       "      <td>2</td>\n",
       "      <td>0</td>\n",
       "      <td>14</td>\n",
       "      <td>1</td>\n",
       "      <td>460</td>\n",
       "      <td>96</td>\n",
       "      <td>0</td>\n",
       "      <td>1</td>\n",
       "      <td>2</td>\n",
       "      <td>...</td>\n",
       "      <td>2.64</td>\n",
       "      <td>36.8</td>\n",
       "      <td>4.53</td>\n",
       "      <td>37.3</td>\n",
       "      <td>4.49</td>\n",
       "      <td>-16.8</td>\n",
       "      <td>2.06</td>\n",
       "      <td>149.8</td>\n",
       "      <td>50.0</td>\n",
       "      <td>2.952017</td>\n",
       "    </tr>\n",
       "    <tr>\n",
       "      <th>792</th>\n",
       "      <td>750</td>\n",
       "      <td>2</td>\n",
       "      <td>0</td>\n",
       "      <td>14</td>\n",
       "      <td>1</td>\n",
       "      <td>460</td>\n",
       "      <td>96</td>\n",
       "      <td>0</td>\n",
       "      <td>1</td>\n",
       "      <td>2</td>\n",
       "      <td>...</td>\n",
       "      <td>2.64</td>\n",
       "      <td>36.8</td>\n",
       "      <td>4.53</td>\n",
       "      <td>37.3</td>\n",
       "      <td>4.49</td>\n",
       "      <td>-16.8</td>\n",
       "      <td>2.06</td>\n",
       "      <td>149.8</td>\n",
       "      <td>50.0</td>\n",
       "      <td>2.952017</td>\n",
       "    </tr>\n",
       "    <tr>\n",
       "      <th>792</th>\n",
       "      <td>750</td>\n",
       "      <td>2</td>\n",
       "      <td>0</td>\n",
       "      <td>14</td>\n",
       "      <td>1</td>\n",
       "      <td>460</td>\n",
       "      <td>96</td>\n",
       "      <td>0</td>\n",
       "      <td>1</td>\n",
       "      <td>2</td>\n",
       "      <td>...</td>\n",
       "      <td>2.64</td>\n",
       "      <td>36.8</td>\n",
       "      <td>4.53</td>\n",
       "      <td>37.3</td>\n",
       "      <td>4.49</td>\n",
       "      <td>-16.8</td>\n",
       "      <td>2.06</td>\n",
       "      <td>149.8</td>\n",
       "      <td>50.0</td>\n",
       "      <td>2.952017</td>\n",
       "    </tr>\n",
       "    <tr>\n",
       "      <th>792</th>\n",
       "      <td>750</td>\n",
       "      <td>2</td>\n",
       "      <td>0</td>\n",
       "      <td>14</td>\n",
       "      <td>1</td>\n",
       "      <td>460</td>\n",
       "      <td>96</td>\n",
       "      <td>0</td>\n",
       "      <td>1</td>\n",
       "      <td>2</td>\n",
       "      <td>...</td>\n",
       "      <td>2.64</td>\n",
       "      <td>36.8</td>\n",
       "      <td>4.53</td>\n",
       "      <td>37.3</td>\n",
       "      <td>4.49</td>\n",
       "      <td>-16.8</td>\n",
       "      <td>2.06</td>\n",
       "      <td>149.8</td>\n",
       "      <td>50.0</td>\n",
       "      <td>2.952017</td>\n",
       "    </tr>\n",
       "    <tr>\n",
       "      <th>792</th>\n",
       "      <td>750</td>\n",
       "      <td>2</td>\n",
       "      <td>0</td>\n",
       "      <td>14</td>\n",
       "      <td>1</td>\n",
       "      <td>460</td>\n",
       "      <td>96</td>\n",
       "      <td>0</td>\n",
       "      <td>1</td>\n",
       "      <td>2</td>\n",
       "      <td>...</td>\n",
       "      <td>2.64</td>\n",
       "      <td>36.8</td>\n",
       "      <td>4.53</td>\n",
       "      <td>37.3</td>\n",
       "      <td>4.49</td>\n",
       "      <td>-16.8</td>\n",
       "      <td>2.06</td>\n",
       "      <td>149.8</td>\n",
       "      <td>50.0</td>\n",
       "      <td>2.952017</td>\n",
       "    </tr>\n",
       "    <tr>\n",
       "      <th>792</th>\n",
       "      <td>750</td>\n",
       "      <td>2</td>\n",
       "      <td>0</td>\n",
       "      <td>14</td>\n",
       "      <td>1</td>\n",
       "      <td>460</td>\n",
       "      <td>96</td>\n",
       "      <td>0</td>\n",
       "      <td>1</td>\n",
       "      <td>2</td>\n",
       "      <td>...</td>\n",
       "      <td>2.64</td>\n",
       "      <td>36.8</td>\n",
       "      <td>4.53</td>\n",
       "      <td>37.3</td>\n",
       "      <td>4.49</td>\n",
       "      <td>-16.8</td>\n",
       "      <td>2.06</td>\n",
       "      <td>149.8</td>\n",
       "      <td>50.0</td>\n",
       "      <td>2.952017</td>\n",
       "    </tr>\n",
       "    <tr>\n",
       "      <th>792</th>\n",
       "      <td>750</td>\n",
       "      <td>2</td>\n",
       "      <td>0</td>\n",
       "      <td>14</td>\n",
       "      <td>1</td>\n",
       "      <td>460</td>\n",
       "      <td>96</td>\n",
       "      <td>0</td>\n",
       "      <td>1</td>\n",
       "      <td>2</td>\n",
       "      <td>...</td>\n",
       "      <td>2.64</td>\n",
       "      <td>36.8</td>\n",
       "      <td>4.53</td>\n",
       "      <td>37.3</td>\n",
       "      <td>4.49</td>\n",
       "      <td>-16.8</td>\n",
       "      <td>2.06</td>\n",
       "      <td>149.8</td>\n",
       "      <td>50.0</td>\n",
       "      <td>2.952017</td>\n",
       "    </tr>\n",
       "    <tr>\n",
       "      <th>792</th>\n",
       "      <td>750</td>\n",
       "      <td>2</td>\n",
       "      <td>0</td>\n",
       "      <td>14</td>\n",
       "      <td>1</td>\n",
       "      <td>460</td>\n",
       "      <td>96</td>\n",
       "      <td>0</td>\n",
       "      <td>1</td>\n",
       "      <td>2</td>\n",
       "      <td>...</td>\n",
       "      <td>2.64</td>\n",
       "      <td>36.8</td>\n",
       "      <td>4.53</td>\n",
       "      <td>37.3</td>\n",
       "      <td>4.49</td>\n",
       "      <td>-16.8</td>\n",
       "      <td>2.06</td>\n",
       "      <td>149.8</td>\n",
       "      <td>50.0</td>\n",
       "      <td>2.952017</td>\n",
       "    </tr>\n",
       "    <tr>\n",
       "      <th>792</th>\n",
       "      <td>750</td>\n",
       "      <td>2</td>\n",
       "      <td>0</td>\n",
       "      <td>14</td>\n",
       "      <td>1</td>\n",
       "      <td>460</td>\n",
       "      <td>96</td>\n",
       "      <td>0</td>\n",
       "      <td>1</td>\n",
       "      <td>2</td>\n",
       "      <td>...</td>\n",
       "      <td>2.64</td>\n",
       "      <td>36.8</td>\n",
       "      <td>4.53</td>\n",
       "      <td>37.3</td>\n",
       "      <td>4.49</td>\n",
       "      <td>-16.8</td>\n",
       "      <td>2.06</td>\n",
       "      <td>149.8</td>\n",
       "      <td>50.0</td>\n",
       "      <td>2.952017</td>\n",
       "    </tr>\n",
       "    <tr>\n",
       "      <th>792</th>\n",
       "      <td>750</td>\n",
       "      <td>2</td>\n",
       "      <td>0</td>\n",
       "      <td>14</td>\n",
       "      <td>1</td>\n",
       "      <td>460</td>\n",
       "      <td>96</td>\n",
       "      <td>0</td>\n",
       "      <td>1</td>\n",
       "      <td>2</td>\n",
       "      <td>...</td>\n",
       "      <td>2.64</td>\n",
       "      <td>36.8</td>\n",
       "      <td>4.53</td>\n",
       "      <td>37.3</td>\n",
       "      <td>4.49</td>\n",
       "      <td>-16.8</td>\n",
       "      <td>2.06</td>\n",
       "      <td>149.8</td>\n",
       "      <td>50.0</td>\n",
       "      <td>2.952017</td>\n",
       "    </tr>\n",
       "    <tr>\n",
       "      <th>792</th>\n",
       "      <td>750</td>\n",
       "      <td>2</td>\n",
       "      <td>0</td>\n",
       "      <td>14</td>\n",
       "      <td>1</td>\n",
       "      <td>460</td>\n",
       "      <td>96</td>\n",
       "      <td>0</td>\n",
       "      <td>1</td>\n",
       "      <td>2</td>\n",
       "      <td>...</td>\n",
       "      <td>2.64</td>\n",
       "      <td>36.8</td>\n",
       "      <td>4.53</td>\n",
       "      <td>37.3</td>\n",
       "      <td>4.49</td>\n",
       "      <td>-16.8</td>\n",
       "      <td>2.06</td>\n",
       "      <td>149.8</td>\n",
       "      <td>50.0</td>\n",
       "      <td>2.952017</td>\n",
       "    </tr>\n",
       "    <tr>\n",
       "      <th>792</th>\n",
       "      <td>750</td>\n",
       "      <td>2</td>\n",
       "      <td>0</td>\n",
       "      <td>14</td>\n",
       "      <td>1</td>\n",
       "      <td>460</td>\n",
       "      <td>96</td>\n",
       "      <td>0</td>\n",
       "      <td>1</td>\n",
       "      <td>2</td>\n",
       "      <td>...</td>\n",
       "      <td>2.64</td>\n",
       "      <td>36.8</td>\n",
       "      <td>4.53</td>\n",
       "      <td>37.3</td>\n",
       "      <td>4.49</td>\n",
       "      <td>-16.8</td>\n",
       "      <td>2.06</td>\n",
       "      <td>149.8</td>\n",
       "      <td>50.0</td>\n",
       "      <td>2.952017</td>\n",
       "    </tr>\n",
       "    <tr>\n",
       "      <th>793</th>\n",
       "      <td>750</td>\n",
       "      <td>2</td>\n",
       "      <td>0</td>\n",
       "      <td>14</td>\n",
       "      <td>1</td>\n",
       "      <td>420</td>\n",
       "      <td>96</td>\n",
       "      <td>0</td>\n",
       "      <td>1</td>\n",
       "      <td>2</td>\n",
       "      <td>...</td>\n",
       "      <td>2.64</td>\n",
       "      <td>36.8</td>\n",
       "      <td>4.53</td>\n",
       "      <td>37.3</td>\n",
       "      <td>4.48</td>\n",
       "      <td>-16.8</td>\n",
       "      <td>2.07</td>\n",
       "      <td>149.8</td>\n",
       "      <td>50.0</td>\n",
       "      <td>2.892322</td>\n",
       "    </tr>\n",
       "    <tr>\n",
       "      <th>793</th>\n",
       "      <td>750</td>\n",
       "      <td>2</td>\n",
       "      <td>0</td>\n",
       "      <td>14</td>\n",
       "      <td>1</td>\n",
       "      <td>420</td>\n",
       "      <td>96</td>\n",
       "      <td>0</td>\n",
       "      <td>1</td>\n",
       "      <td>2</td>\n",
       "      <td>...</td>\n",
       "      <td>2.64</td>\n",
       "      <td>36.8</td>\n",
       "      <td>4.53</td>\n",
       "      <td>37.3</td>\n",
       "      <td>4.48</td>\n",
       "      <td>-16.8</td>\n",
       "      <td>2.07</td>\n",
       "      <td>149.8</td>\n",
       "      <td>50.0</td>\n",
       "      <td>2.892322</td>\n",
       "    </tr>\n",
       "    <tr>\n",
       "      <th>793</th>\n",
       "      <td>750</td>\n",
       "      <td>2</td>\n",
       "      <td>0</td>\n",
       "      <td>14</td>\n",
       "      <td>1</td>\n",
       "      <td>420</td>\n",
       "      <td>96</td>\n",
       "      <td>0</td>\n",
       "      <td>1</td>\n",
       "      <td>2</td>\n",
       "      <td>...</td>\n",
       "      <td>2.64</td>\n",
       "      <td>36.8</td>\n",
       "      <td>4.53</td>\n",
       "      <td>37.3</td>\n",
       "      <td>4.48</td>\n",
       "      <td>-16.8</td>\n",
       "      <td>2.07</td>\n",
       "      <td>149.8</td>\n",
       "      <td>50.0</td>\n",
       "      <td>2.892322</td>\n",
       "    </tr>\n",
       "    <tr>\n",
       "      <th>793</th>\n",
       "      <td>750</td>\n",
       "      <td>2</td>\n",
       "      <td>0</td>\n",
       "      <td>14</td>\n",
       "      <td>1</td>\n",
       "      <td>420</td>\n",
       "      <td>96</td>\n",
       "      <td>0</td>\n",
       "      <td>1</td>\n",
       "      <td>2</td>\n",
       "      <td>...</td>\n",
       "      <td>2.64</td>\n",
       "      <td>36.8</td>\n",
       "      <td>4.53</td>\n",
       "      <td>37.3</td>\n",
       "      <td>4.48</td>\n",
       "      <td>-16.8</td>\n",
       "      <td>2.07</td>\n",
       "      <td>149.8</td>\n",
       "      <td>50.0</td>\n",
       "      <td>2.892322</td>\n",
       "    </tr>\n",
       "    <tr>\n",
       "      <th>793</th>\n",
       "      <td>750</td>\n",
       "      <td>2</td>\n",
       "      <td>0</td>\n",
       "      <td>14</td>\n",
       "      <td>1</td>\n",
       "      <td>420</td>\n",
       "      <td>96</td>\n",
       "      <td>0</td>\n",
       "      <td>1</td>\n",
       "      <td>2</td>\n",
       "      <td>...</td>\n",
       "      <td>2.64</td>\n",
       "      <td>36.8</td>\n",
       "      <td>4.53</td>\n",
       "      <td>37.3</td>\n",
       "      <td>4.48</td>\n",
       "      <td>-16.8</td>\n",
       "      <td>2.07</td>\n",
       "      <td>149.8</td>\n",
       "      <td>50.0</td>\n",
       "      <td>2.892322</td>\n",
       "    </tr>\n",
       "    <tr>\n",
       "      <th>793</th>\n",
       "      <td>750</td>\n",
       "      <td>2</td>\n",
       "      <td>0</td>\n",
       "      <td>14</td>\n",
       "      <td>1</td>\n",
       "      <td>420</td>\n",
       "      <td>96</td>\n",
       "      <td>0</td>\n",
       "      <td>1</td>\n",
       "      <td>2</td>\n",
       "      <td>...</td>\n",
       "      <td>2.64</td>\n",
       "      <td>36.8</td>\n",
       "      <td>4.53</td>\n",
       "      <td>37.3</td>\n",
       "      <td>4.48</td>\n",
       "      <td>-16.8</td>\n",
       "      <td>2.07</td>\n",
       "      <td>149.8</td>\n",
       "      <td>50.0</td>\n",
       "      <td>2.892322</td>\n",
       "    </tr>\n",
       "    <tr>\n",
       "      <th>794</th>\n",
       "      <td>750</td>\n",
       "      <td>2</td>\n",
       "      <td>0</td>\n",
       "      <td>14</td>\n",
       "      <td>1</td>\n",
       "      <td>420</td>\n",
       "      <td>96</td>\n",
       "      <td>0</td>\n",
       "      <td>1</td>\n",
       "      <td>2</td>\n",
       "      <td>...</td>\n",
       "      <td>2.64</td>\n",
       "      <td>36.8</td>\n",
       "      <td>4.53</td>\n",
       "      <td>37.3</td>\n",
       "      <td>4.48</td>\n",
       "      <td>-16.8</td>\n",
       "      <td>2.07</td>\n",
       "      <td>149.8</td>\n",
       "      <td>50.0</td>\n",
       "      <td>2.636885</td>\n",
       "    </tr>\n",
       "    <tr>\n",
       "      <th>794</th>\n",
       "      <td>750</td>\n",
       "      <td>2</td>\n",
       "      <td>0</td>\n",
       "      <td>14</td>\n",
       "      <td>1</td>\n",
       "      <td>420</td>\n",
       "      <td>96</td>\n",
       "      <td>0</td>\n",
       "      <td>1</td>\n",
       "      <td>2</td>\n",
       "      <td>...</td>\n",
       "      <td>2.64</td>\n",
       "      <td>36.8</td>\n",
       "      <td>4.53</td>\n",
       "      <td>37.3</td>\n",
       "      <td>4.48</td>\n",
       "      <td>-16.8</td>\n",
       "      <td>2.07</td>\n",
       "      <td>149.8</td>\n",
       "      <td>50.0</td>\n",
       "      <td>2.636885</td>\n",
       "    </tr>\n",
       "    <tr>\n",
       "      <th>795</th>\n",
       "      <td>750</td>\n",
       "      <td>1</td>\n",
       "      <td>0</td>\n",
       "      <td>14</td>\n",
       "      <td>1</td>\n",
       "      <td>440</td>\n",
       "      <td>96</td>\n",
       "      <td>0</td>\n",
       "      <td>1</td>\n",
       "      <td>2</td>\n",
       "      <td>...</td>\n",
       "      <td>2.64</td>\n",
       "      <td>36.8</td>\n",
       "      <td>4.55</td>\n",
       "      <td>37.3</td>\n",
       "      <td>4.50</td>\n",
       "      <td>-16.8</td>\n",
       "      <td>2.06</td>\n",
       "      <td>149.8</td>\n",
       "      <td>50.0</td>\n",
       "      <td>2.531850</td>\n",
       "    </tr>\n",
       "    <tr>\n",
       "      <th>796</th>\n",
       "      <td>750</td>\n",
       "      <td>2</td>\n",
       "      <td>0</td>\n",
       "      <td>14</td>\n",
       "      <td>1</td>\n",
       "      <td>420</td>\n",
       "      <td>96</td>\n",
       "      <td>0</td>\n",
       "      <td>1</td>\n",
       "      <td>2</td>\n",
       "      <td>...</td>\n",
       "      <td>2.65</td>\n",
       "      <td>36.8</td>\n",
       "      <td>4.54</td>\n",
       "      <td>37.3</td>\n",
       "      <td>4.50</td>\n",
       "      <td>-16.8</td>\n",
       "      <td>2.06</td>\n",
       "      <td>149.8</td>\n",
       "      <td>50.0</td>\n",
       "      <td>2.745536</td>\n",
       "    </tr>\n",
       "    <tr>\n",
       "      <th>796</th>\n",
       "      <td>750</td>\n",
       "      <td>2</td>\n",
       "      <td>0</td>\n",
       "      <td>14</td>\n",
       "      <td>1</td>\n",
       "      <td>420</td>\n",
       "      <td>96</td>\n",
       "      <td>0</td>\n",
       "      <td>1</td>\n",
       "      <td>2</td>\n",
       "      <td>...</td>\n",
       "      <td>2.65</td>\n",
       "      <td>36.8</td>\n",
       "      <td>4.54</td>\n",
       "      <td>37.3</td>\n",
       "      <td>4.50</td>\n",
       "      <td>-16.8</td>\n",
       "      <td>2.06</td>\n",
       "      <td>149.8</td>\n",
       "      <td>50.0</td>\n",
       "      <td>2.745536</td>\n",
       "    </tr>\n",
       "    <tr>\n",
       "      <th>797</th>\n",
       "      <td>750</td>\n",
       "      <td>1</td>\n",
       "      <td>0</td>\n",
       "      <td>14</td>\n",
       "      <td>1</td>\n",
       "      <td>440</td>\n",
       "      <td>96</td>\n",
       "      <td>0</td>\n",
       "      <td>1</td>\n",
       "      <td>2</td>\n",
       "      <td>...</td>\n",
       "      <td>2.65</td>\n",
       "      <td>36.8</td>\n",
       "      <td>4.54</td>\n",
       "      <td>37.3</td>\n",
       "      <td>4.49</td>\n",
       "      <td>-16.8</td>\n",
       "      <td>2.06</td>\n",
       "      <td>149.8</td>\n",
       "      <td>49.9</td>\n",
       "      <td>2.728874</td>\n",
       "    </tr>\n",
       "    <tr>\n",
       "      <th>797</th>\n",
       "      <td>750</td>\n",
       "      <td>1</td>\n",
       "      <td>0</td>\n",
       "      <td>14</td>\n",
       "      <td>1</td>\n",
       "      <td>440</td>\n",
       "      <td>96</td>\n",
       "      <td>0</td>\n",
       "      <td>1</td>\n",
       "      <td>2</td>\n",
       "      <td>...</td>\n",
       "      <td>2.65</td>\n",
       "      <td>36.8</td>\n",
       "      <td>4.54</td>\n",
       "      <td>37.3</td>\n",
       "      <td>4.49</td>\n",
       "      <td>-16.8</td>\n",
       "      <td>2.06</td>\n",
       "      <td>149.8</td>\n",
       "      <td>49.9</td>\n",
       "      <td>2.728874</td>\n",
       "    </tr>\n",
       "    <tr>\n",
       "      <th>798</th>\n",
       "      <td>750</td>\n",
       "      <td>2</td>\n",
       "      <td>0</td>\n",
       "      <td>14</td>\n",
       "      <td>1</td>\n",
       "      <td>420</td>\n",
       "      <td>96</td>\n",
       "      <td>0</td>\n",
       "      <td>1</td>\n",
       "      <td>2</td>\n",
       "      <td>...</td>\n",
       "      <td>2.65</td>\n",
       "      <td>36.8</td>\n",
       "      <td>4.54</td>\n",
       "      <td>37.3</td>\n",
       "      <td>4.49</td>\n",
       "      <td>-16.8</td>\n",
       "      <td>2.06</td>\n",
       "      <td>149.8</td>\n",
       "      <td>50.0</td>\n",
       "      <td>2.890727</td>\n",
       "    </tr>\n",
       "    <tr>\n",
       "      <th>799</th>\n",
       "      <td>750</td>\n",
       "      <td>1</td>\n",
       "      <td>0</td>\n",
       "      <td>14</td>\n",
       "      <td>1</td>\n",
       "      <td>440</td>\n",
       "      <td>96</td>\n",
       "      <td>0</td>\n",
       "      <td>1</td>\n",
       "      <td>2</td>\n",
       "      <td>...</td>\n",
       "      <td>2.65</td>\n",
       "      <td>36.8</td>\n",
       "      <td>4.54</td>\n",
       "      <td>37.3</td>\n",
       "      <td>4.48</td>\n",
       "      <td>-16.8</td>\n",
       "      <td>2.07</td>\n",
       "      <td>149.8</td>\n",
       "      <td>49.9</td>\n",
       "      <td>2.826487</td>\n",
       "    </tr>\n",
       "    <tr>\n",
       "      <th>799</th>\n",
       "      <td>750</td>\n",
       "      <td>1</td>\n",
       "      <td>0</td>\n",
       "      <td>14</td>\n",
       "      <td>1</td>\n",
       "      <td>440</td>\n",
       "      <td>96</td>\n",
       "      <td>0</td>\n",
       "      <td>1</td>\n",
       "      <td>2</td>\n",
       "      <td>...</td>\n",
       "      <td>2.65</td>\n",
       "      <td>36.8</td>\n",
       "      <td>4.54</td>\n",
       "      <td>37.3</td>\n",
       "      <td>4.48</td>\n",
       "      <td>-16.8</td>\n",
       "      <td>2.07</td>\n",
       "      <td>149.8</td>\n",
       "      <td>49.9</td>\n",
       "      <td>2.826487</td>\n",
       "    </tr>\n",
       "  </tbody>\n",
       "</table>\n",
       "<p>11259 rows × 2683 columns</p>\n",
       "</div>"
      ],
      "text/plain": [
       "     210X17  210X19  ERROR:#N/A  210X21  210X31  210X36  210X77  210X80  \\\n",
       "0       750       2           0      14       1     435      96       0   \n",
       "0       750       2           0      14       1     435      96       0   \n",
       "0       750       2           0      14       1     435      96       0   \n",
       "0       750       2           0      14       1     435      96       0   \n",
       "0       750       2           0      14       1     435      96       0   \n",
       "2       750       2           0      14       1     435      96       0   \n",
       "2       750       2           0      14       1     435      96       0   \n",
       "2       750       2           0      14       1     435      96       0   \n",
       "2       750       2           0      14       1     435      96       0   \n",
       "2       750       2           0      14       1     435      96       0   \n",
       "2       750       2           0      14       1     435      96       0   \n",
       "2       750       2           0      14       1     435      96       0   \n",
       "4       750       2           0      14       1     445      96       0   \n",
       "4       750       2           0      14       1     445      96       0   \n",
       "4       750       2           0      14       1     445      96       0   \n",
       "4       750       2           0      14       1     445      96       0   \n",
       "4       750       2           0      14       1     445      96       0   \n",
       "4       750       2           0      14       1     445      96       0   \n",
       "4       750       2           0      14       1     445      96       0   \n",
       "4       750       2           0      14       1     445      96       0   \n",
       "4       750       2           0      14       1     445      96       0   \n",
       "4       750       2           0      14       1     445      96       0   \n",
       "5       750       2           0      14       1     425      96       0   \n",
       "6       750       2           0      14       1     440      96       0   \n",
       "6       750       2           0      14       1     440      96       0   \n",
       "6       750       2           0      14       1     440      96       0   \n",
       "6       750       2           0      14       1     440      96       0   \n",
       "6       750       2           0      14       1     440      96       0   \n",
       "6       750       2           0      14       1     440      96       0   \n",
       "6       750       2           0      14       1     440      96       0   \n",
       "..      ...     ...         ...     ...     ...     ...     ...     ...   \n",
       "792     750       2           0      14       1     460      96       0   \n",
       "792     750       2           0      14       1     460      96       0   \n",
       "792     750       2           0      14       1     460      96       0   \n",
       "792     750       2           0      14       1     460      96       0   \n",
       "792     750       2           0      14       1     460      96       0   \n",
       "792     750       2           0      14       1     460      96       0   \n",
       "792     750       2           0      14       1     460      96       0   \n",
       "792     750       2           0      14       1     460      96       0   \n",
       "792     750       2           0      14       1     460      96       0   \n",
       "792     750       2           0      14       1     460      96       0   \n",
       "792     750       2           0      14       1     460      96       0   \n",
       "792     750       2           0      14       1     460      96       0   \n",
       "792     750       2           0      14       1     460      96       0   \n",
       "792     750       2           0      14       1     460      96       0   \n",
       "793     750       2           0      14       1     420      96       0   \n",
       "793     750       2           0      14       1     420      96       0   \n",
       "793     750       2           0      14       1     420      96       0   \n",
       "793     750       2           0      14       1     420      96       0   \n",
       "793     750       2           0      14       1     420      96       0   \n",
       "793     750       2           0      14       1     420      96       0   \n",
       "794     750       2           0      14       1     420      96       0   \n",
       "794     750       2           0      14       1     420      96       0   \n",
       "795     750       1           0      14       1     440      96       0   \n",
       "796     750       2           0      14       1     420      96       0   \n",
       "796     750       2           0      14       1     420      96       0   \n",
       "797     750       1           0      14       1     440      96       0   \n",
       "797     750       1           0      14       1     440      96       0   \n",
       "798     750       2           0      14       1     420      96       0   \n",
       "799     750       1           0      14       1     440      96       0   \n",
       "799     750       1           0      14       1     440      96       0   \n",
       "\n",
       "     210X199  210X214    ...     750X1305  750X1313  750X1321  750X1329  \\\n",
       "0          1        2    ...         2.68      37.4      4.58      37.4   \n",
       "0          1        2    ...         2.68      37.4      4.58      37.4   \n",
       "0          1        2    ...         2.68      37.4      4.58      37.4   \n",
       "0          1        2    ...         2.68      37.4      4.58      37.4   \n",
       "0          1        2    ...         2.68      37.4      4.58      37.4   \n",
       "2          1        2    ...         2.68      37.4      4.59      37.4   \n",
       "2          1        2    ...         2.68      37.4      4.59      37.4   \n",
       "2          1        2    ...         2.68      37.4      4.59      37.4   \n",
       "2          1        2    ...         2.68      37.4      4.59      37.4   \n",
       "2          1        2    ...         2.68      37.4      4.59      37.4   \n",
       "2          1        2    ...         2.68      37.4      4.59      37.4   \n",
       "2          1        2    ...         2.68      37.4      4.59      37.4   \n",
       "4          1        2    ...         2.67      37.2      4.56      37.2   \n",
       "4          1        2    ...         2.67      37.2      4.56      37.2   \n",
       "4          1        2    ...         2.67      37.2      4.56      37.2   \n",
       "4          1        2    ...         2.67      37.2      4.56      37.2   \n",
       "4          1        2    ...         2.67      37.2      4.56      37.2   \n",
       "4          1        2    ...         2.67      37.2      4.56      37.2   \n",
       "4          1        2    ...         2.67      37.2      4.56      37.2   \n",
       "4          1        2    ...         2.67      37.2      4.56      37.2   \n",
       "4          1        2    ...         2.67      37.2      4.56      37.2   \n",
       "4          1        2    ...         2.67      37.2      4.56      37.2   \n",
       "5          1        2    ...         2.67      37.2      4.56      37.2   \n",
       "6          1        2    ...         2.69      37.3      4.58      37.3   \n",
       "6          1        2    ...         2.69      37.3      4.58      37.3   \n",
       "6          1        2    ...         2.69      37.3      4.58      37.3   \n",
       "6          1        2    ...         2.69      37.3      4.58      37.3   \n",
       "6          1        2    ...         2.69      37.3      4.58      37.3   \n",
       "6          1        2    ...         2.69      37.3      4.58      37.3   \n",
       "6          1        2    ...         2.69      37.3      4.58      37.3   \n",
       "..       ...      ...    ...          ...       ...       ...       ...   \n",
       "792        1        2    ...         2.64      36.8      4.53      37.3   \n",
       "792        1        2    ...         2.64      36.8      4.53      37.3   \n",
       "792        1        2    ...         2.64      36.8      4.53      37.3   \n",
       "792        1        2    ...         2.64      36.8      4.53      37.3   \n",
       "792        1        2    ...         2.64      36.8      4.53      37.3   \n",
       "792        1        2    ...         2.64      36.8      4.53      37.3   \n",
       "792        1        2    ...         2.64      36.8      4.53      37.3   \n",
       "792        1        2    ...         2.64      36.8      4.53      37.3   \n",
       "792        1        2    ...         2.64      36.8      4.53      37.3   \n",
       "792        1        2    ...         2.64      36.8      4.53      37.3   \n",
       "792        1        2    ...         2.64      36.8      4.53      37.3   \n",
       "792        1        2    ...         2.64      36.8      4.53      37.3   \n",
       "792        1        2    ...         2.64      36.8      4.53      37.3   \n",
       "792        1        2    ...         2.64      36.8      4.53      37.3   \n",
       "793        1        2    ...         2.64      36.8      4.53      37.3   \n",
       "793        1        2    ...         2.64      36.8      4.53      37.3   \n",
       "793        1        2    ...         2.64      36.8      4.53      37.3   \n",
       "793        1        2    ...         2.64      36.8      4.53      37.3   \n",
       "793        1        2    ...         2.64      36.8      4.53      37.3   \n",
       "793        1        2    ...         2.64      36.8      4.53      37.3   \n",
       "794        1        2    ...         2.64      36.8      4.53      37.3   \n",
       "794        1        2    ...         2.64      36.8      4.53      37.3   \n",
       "795        1        2    ...         2.64      36.8      4.55      37.3   \n",
       "796        1        2    ...         2.65      36.8      4.54      37.3   \n",
       "796        1        2    ...         2.65      36.8      4.54      37.3   \n",
       "797        1        2    ...         2.65      36.8      4.54      37.3   \n",
       "797        1        2    ...         2.65      36.8      4.54      37.3   \n",
       "798        1        2    ...         2.65      36.8      4.54      37.3   \n",
       "799        1        2    ...         2.65      36.8      4.54      37.3   \n",
       "799        1        2    ...         2.65      36.8      4.54      37.3   \n",
       "\n",
       "     750X1337  750X1356  750X1364  750X1383  750X1391     Value  \n",
       "0        4.46     -12.7      1.66     149.7      49.7  2.814025  \n",
       "0        4.46     -12.7      1.66     149.7      49.7  2.814025  \n",
       "0        4.46     -12.7      1.66     149.7      49.7  2.814025  \n",
       "0        4.46     -12.7      1.66     149.7      49.7  2.814025  \n",
       "0        4.46     -12.7      1.66     149.7      49.7  2.814025  \n",
       "2        4.46     -12.7      1.66     149.7      49.8  2.725973  \n",
       "2        4.46     -12.7      1.66     149.7      49.8  2.725973  \n",
       "2        4.46     -12.7      1.66     149.7      49.8  2.725973  \n",
       "2        4.46     -12.7      1.66     149.7      49.8  2.725973  \n",
       "2        4.46     -12.7      1.66     149.7      49.8  2.725973  \n",
       "2        4.46     -12.7      1.66     149.7      49.8  2.725973  \n",
       "2        4.46     -12.7      1.66     149.7      49.8  2.725973  \n",
       "4        4.43     -12.7      1.65     149.7      49.7  2.787539  \n",
       "4        4.43     -12.7      1.65     149.7      49.7  2.787539  \n",
       "4        4.43     -12.7      1.65     149.7      49.7  2.787539  \n",
       "4        4.43     -12.7      1.65     149.7      49.7  2.787539  \n",
       "4        4.43     -12.7      1.65     149.7      49.7  2.787539  \n",
       "4        4.43     -12.7      1.65     149.7      49.7  2.787539  \n",
       "4        4.43     -12.7      1.65     149.7      49.7  2.787539  \n",
       "4        4.43     -12.7      1.65     149.7      49.7  2.787539  \n",
       "4        4.43     -12.7      1.65     149.7      49.7  2.787539  \n",
       "4        4.43     -12.7      1.65     149.7      49.7  2.787539  \n",
       "5        4.44     -12.7      1.65     149.7      49.8  2.569175  \n",
       "6        4.46     -12.7      1.65     149.7      49.7  2.965824  \n",
       "6        4.46     -12.7      1.65     149.7      49.7  2.965824  \n",
       "6        4.46     -12.7      1.65     149.7      49.7  2.965824  \n",
       "6        4.46     -12.7      1.65     149.7      49.7  2.965824  \n",
       "6        4.46     -12.7      1.65     149.7      49.7  2.965824  \n",
       "6        4.46     -12.7      1.65     149.7      49.7  2.965824  \n",
       "6        4.46     -12.7      1.65     149.7      49.7  2.965824  \n",
       "..        ...       ...       ...       ...       ...       ...  \n",
       "792      4.49     -16.8      2.06     149.8      50.0  2.952017  \n",
       "792      4.49     -16.8      2.06     149.8      50.0  2.952017  \n",
       "792      4.49     -16.8      2.06     149.8      50.0  2.952017  \n",
       "792      4.49     -16.8      2.06     149.8      50.0  2.952017  \n",
       "792      4.49     -16.8      2.06     149.8      50.0  2.952017  \n",
       "792      4.49     -16.8      2.06     149.8      50.0  2.952017  \n",
       "792      4.49     -16.8      2.06     149.8      50.0  2.952017  \n",
       "792      4.49     -16.8      2.06     149.8      50.0  2.952017  \n",
       "792      4.49     -16.8      2.06     149.8      50.0  2.952017  \n",
       "792      4.49     -16.8      2.06     149.8      50.0  2.952017  \n",
       "792      4.49     -16.8      2.06     149.8      50.0  2.952017  \n",
       "792      4.49     -16.8      2.06     149.8      50.0  2.952017  \n",
       "792      4.49     -16.8      2.06     149.8      50.0  2.952017  \n",
       "792      4.49     -16.8      2.06     149.8      50.0  2.952017  \n",
       "793      4.48     -16.8      2.07     149.8      50.0  2.892322  \n",
       "793      4.48     -16.8      2.07     149.8      50.0  2.892322  \n",
       "793      4.48     -16.8      2.07     149.8      50.0  2.892322  \n",
       "793      4.48     -16.8      2.07     149.8      50.0  2.892322  \n",
       "793      4.48     -16.8      2.07     149.8      50.0  2.892322  \n",
       "793      4.48     -16.8      2.07     149.8      50.0  2.892322  \n",
       "794      4.48     -16.8      2.07     149.8      50.0  2.636885  \n",
       "794      4.48     -16.8      2.07     149.8      50.0  2.636885  \n",
       "795      4.50     -16.8      2.06     149.8      50.0  2.531850  \n",
       "796      4.50     -16.8      2.06     149.8      50.0  2.745536  \n",
       "796      4.50     -16.8      2.06     149.8      50.0  2.745536  \n",
       "797      4.49     -16.8      2.06     149.8      49.9  2.728874  \n",
       "797      4.49     -16.8      2.06     149.8      49.9  2.728874  \n",
       "798      4.49     -16.8      2.06     149.8      50.0  2.890727  \n",
       "799      4.48     -16.8      2.07     149.8      49.9  2.826487  \n",
       "799      4.48     -16.8      2.07     149.8      49.9  2.826487  \n",
       "\n",
       "[11259 rows x 2683 columns]"
      ]
     },
     "execution_count": 124,
     "metadata": {},
     "output_type": "execute_result"
    }
   ],
   "source": [
    "#只显示存在缺失值行的数据\n",
    "values_df[values_df.isnull().values==True]"
   ]
  },
  {
   "cell_type": "code",
   "execution_count": 125,
   "metadata": {},
   "outputs": [
    {
     "ename": "NameError",
     "evalue": "name 'features' is not defined",
     "output_type": "error",
     "traceback": [
      "\u001b[1;31m---------------------------------------------------------------------------\u001b[0m",
      "\u001b[1;31mNameError\u001b[0m                                 Traceback (most recent call last)",
      "\u001b[1;32m<ipython-input-125-7a515cf64062>\u001b[0m in \u001b[0;36m<module>\u001b[1;34m()\u001b[0m\n\u001b[1;32m----> 1\u001b[1;33m \u001b[0mvalues_df\u001b[0m \u001b[1;33m=\u001b[0m \u001b[0mfeatures\u001b[0m\u001b[1;33m.\u001b[0m\u001b[0mfill_nan\u001b[0m\u001b[1;33m(\u001b[0m\u001b[0mvalues_df\u001b[0m\u001b[1;33m)\u001b[0m\u001b[1;33m\u001b[0m\u001b[0m\n\u001b[0m",
      "\u001b[1;31mNameError\u001b[0m: name 'features' is not defined"
     ]
    }
   ],
   "source": [
    "values_df = features.fill_nan(values_df)"
   ]
  },
  {
   "cell_type": "markdown",
   "metadata": {},
   "source": [
    "### 1.6 相同值列"
   ]
  },
  {
   "cell_type": "markdown",
   "metadata": {},
   "source": [
    "**获取相同值的列名，并且删除该列**"
   ]
  },
  {
   "cell_type": "code",
   "execution_count": 148,
   "metadata": {
    "scrolled": false
   },
   "outputs": [
    {
     "name": "stderr",
     "output_type": "stream",
     "text": [
      "100%|███████████████████████████████████████████████████████████████████████████| 2683/2683 [00:00<00:00, 11011.76it/s]\n"
     ]
    },
    {
     "name": "stdout",
     "output_type": "stream",
     "text": [
      "(800, 2644)\n"
     ]
    }
   ],
   "source": [
    "uniq_col = features_process.values_uniq(values_df)\n",
    "values_df.drop(uniq_col,axis=1,inplace=True)\n",
    "print(values_df.shape)"
   ]
  },
  {
   "cell_type": "code",
   "execution_count": 149,
   "metadata": {},
   "outputs": [
    {
     "data": {
      "text/plain": [
       "2.5095889116158334"
      ]
     },
     "execution_count": 149,
     "metadata": {},
     "output_type": "execute_result"
    }
   ],
   "source": [
    "values_df[col].mode().iloc[0]"
   ]
  },
  {
   "cell_type": "code",
   "execution_count": 150,
   "metadata": {
    "scrolled": true
   },
   "outputs": [
    {
     "name": "stdout",
     "output_type": "stream",
     "text": [
      "561\n",
      "(800, 2083)\n"
     ]
    }
   ],
   "source": [
    "count = 0\n",
    "for col in values_df.columns:\n",
    "    mode = values_df[col].mode().iloc[0]\n",
    "    flag = (values_df[col] == int(mode))\n",
    "    if sum(flag) > 300:\n",
    "        count += 1\n",
    "        values_df.drop(col, axis=1, inplace=True)\n",
    "print(count)\n",
    "print(values_df.shape)"
   ]
  },
  {
   "cell_type": "code",
   "execution_count": 151,
   "metadata": {
    "collapsed": true
   },
   "outputs": [],
   "source": [
    "values_df.to_csv('train_2083.csv')"
   ]
  },
  {
   "cell_type": "markdown",
   "metadata": {},
   "source": [
    "### 1.7 特征相关性"
   ]
  },
  {
   "cell_type": "markdown",
   "metadata": {},
   "source": [
    "**对所有特征计算皮尔逊系数，并且剔除相关系数大于0.95的特征**"
   ]
  },
  {
   "cell_type": "code",
   "execution_count": 152,
   "metadata": {
    "collapsed": true
   },
   "outputs": [],
   "source": [
    "#corr 为所有特征的相关系数矩阵\n",
    "corr = values_df.corr(method='pearson',min_periods=1)"
   ]
  },
  {
   "cell_type": "code",
   "execution_count": 153,
   "metadata": {
    "scrolled": true
   },
   "outputs": [
    {
     "name": "stdout",
     "output_type": "stream",
     "text": [
      "剔除相关性系数大于0.970000的特征个数：1015  \n"
     ]
    }
   ],
   "source": [
    "corr_columns = corr.columns\n",
    "num = corr.shape[0]\n",
    "\n",
    "for i in range(num):\n",
    "    for j in range(i, num):\n",
    "        corr.iloc[i,j:] = 0\n",
    "        break\n",
    "corr.to_csv('corr_0.csv')\n",
    "corr_coef = 0.97\n",
    "count=0\n",
    "for i in range(num):\n",
    "    if abs(corr.iloc[::,i].max())>corr_coef:\n",
    "        count += 1\n",
    "        values_df.drop(corr_columns[i], axis=1, inplace=True)\n",
    "print('剔除相关性系数大于%f的特征个数：%d  '%(corr_coef, count))"
   ]
  },
  {
   "cell_type": "code",
   "execution_count": 154,
   "metadata": {},
   "outputs": [
    {
     "data": {
      "text/plain": [
       "(800, 1068)"
      ]
     },
     "execution_count": 154,
     "metadata": {},
     "output_type": "execute_result"
    }
   ],
   "source": [
    "values_df.shape"
   ]
  },
  {
   "cell_type": "code",
   "execution_count": 110,
   "metadata": {
    "collapsed": true
   },
   "outputs": [],
   "source": [
    "values_df.to_csv('train_1068.csv',index=False)"
   ]
  },
  {
   "cell_type": "markdown",
   "metadata": {},
   "source": [
    "### 1.7 特征-目标值相关性"
   ]
  },
  {
   "cell_type": "markdown",
   "metadata": {},
   "source": [
    "**对特征和目标值做相关性分析，删除相关性低的特征**"
   ]
  },
  {
   "cell_type": "code",
   "execution_count": 160,
   "metadata": {
    "scrolled": true
   },
   "outputs": [
    {
     "name": "stderr",
     "output_type": "stream",
     "text": [
      "C:\\Users\\cmh\\Desktop\\tianchi1.9\\features_process.py:89: SettingWithCopyWarning: \n",
      "A value is trying to be set on a copy of a slice from a DataFrame.\n",
      "Try using .loc[row_indexer,col_indexer] = value instead\n",
      "\n",
      "See the caveats in the documentation: http://pandas.pydata.org/pandas-docs/stable/indexing.html#indexing-view-versus-copy\n",
      "  decorr_train['Value'] = y_train\n"
     ]
    },
    {
     "name": "stdout",
     "output_type": "stream",
     "text": [
      "(800, 186)\n"
     ]
    }
   ],
   "source": [
    "values_decorr = features_process.cal_corrcoef(values_df, corr=0.1)\n",
    "print(values_decorr.shape)"
   ]
  },
  {
   "cell_type": "code",
   "execution_count": 161,
   "metadata": {},
   "outputs": [
    {
     "data": {
      "text/plain": [
       "(800, 186)"
      ]
     },
     "execution_count": 161,
     "metadata": {},
     "output_type": "execute_result"
    }
   ],
   "source": [
    "values_df = values_decorr\n",
    "values_df.shape"
   ]
  },
  {
   "cell_type": "code",
   "execution_count": 162,
   "metadata": {
    "collapsed": true
   },
   "outputs": [],
   "source": [
    "values_df.to_csv('train_186.csv',index=False)"
   ]
  },
  {
   "cell_type": "markdown",
   "metadata": {},
   "source": [
    "## 2. 模型 "
   ]
  },
  {
   "cell_type": "markdown",
   "metadata": {},
   "source": [
    "### 2.1训练、测试数据"
   ]
  },
  {
   "cell_type": "markdown",
   "metadata": {},
   "source": [
    "**获得训练数据**"
   ]
  },
  {
   "cell_type": "code",
   "execution_count": 60,
   "metadata": {},
   "outputs": [
    {
     "data": {
      "text/plain": [
       "(800, 286)"
      ]
     },
     "execution_count": 60,
     "metadata": {},
     "output_type": "execute_result"
    }
   ],
   "source": [
    "values_df = pd.read_csv('Blast_value_df.csv',index_col=0)\n",
    "values_df.shape"
   ]
  },
  {
   "cell_type": "code",
   "execution_count": 61,
   "metadata": {
    "collapsed": true
   },
   "outputs": [],
   "source": [
    "y_train = values_df['Value'].values\n",
    "#label = values_df['label'].values\n",
    "train_col = values_df.columns.tolist()\n",
    "train_col.remove('Value')\n",
    "#train_col.remove('label')\n",
    "x_train = values_df[train_col].values"
   ]
  },
  {
   "cell_type": "markdown",
   "metadata": {},
   "source": [
    "**获得测试数据**"
   ]
  },
  {
   "cell_type": "code",
   "execution_count": 68,
   "metadata": {},
   "outputs": [
    {
     "name": "stderr",
     "output_type": "stream",
     "text": [
      "C:\\Program Files\\setup\\Anaconda\\lib\\site-packages\\pandas\\core\\generic.py:3549: SettingWithCopyWarning: \n",
      "A value is trying to be set on a copy of a slice from a DataFrame\n",
      "\n",
      "See the caveats in the documentation: http://pandas.pydata.org/pandas-docs/stable/indexing.html#indexing-view-versus-copy\n",
      "  self._update_inplace(new_data)\n"
     ]
    }
   ],
   "source": [
    "test_df = pd.read_excel('data/testA_20180117.xlsx')\n",
    "sub_test = test_df[train_col]\n",
    "sub_test.fillna(sub_test.median(),inplace=True)\n",
    "x_test = sub_test.values"
   ]
  },
  {
   "cell_type": "markdown",
   "metadata": {},
   "source": [
    "### 2.2 数据预处理"
   ]
  },
  {
   "cell_type": "markdown",
   "metadata": {},
   "source": [
    "**数据归一化**"
   ]
  },
  {
   "cell_type": "code",
   "execution_count": 6,
   "metadata": {},
   "outputs": [
    {
     "name": "stderr",
     "output_type": "stream",
     "text": [
      "C:\\Program Files\\setup\\Anaconda\\lib\\site-packages\\sklearn\\preprocessing\\data.py:160: UserWarning: Numerical issues were encountered when centering the data and might not be solved. Dataset may contain too large values. You may need to prescale your features.\n",
      "  warnings.warn(\"Numerical issues were encountered \"\n"
     ]
    }
   ],
   "source": [
    "from sklearn import preprocessing\n",
    "X = np.vstack((x_train,x_test))\n",
    "X = preprocessing.scale(X)\n",
    "x_train = X[0:len(x_train)]\n",
    "x_test = X[len(x_train):]"
   ]
  },
  {
   "cell_type": "code",
   "execution_count": 19,
   "metadata": {
    "collapsed": true
   },
   "outputs": [],
   "source": [
    "df=DataFrame(x_train)  "
   ]
  },
  {
   "cell_type": "code",
   "execution_count": 132,
   "metadata": {},
   "outputs": [
    {
     "data": {
      "text/plain": [
       "'\\nfrom sklearn import preprocessing \\nX = np.vstack((x_train,x_test))\\nmin_max_scaler = preprocessing.MinMaxScaler()\\nX = min_max_scaler.fit_transform(X)\\nx_train = X[0:len(x_train)]\\nx_test = X[len(x_train):]\\n'"
      ]
     },
     "execution_count": 132,
     "metadata": {},
     "output_type": "execute_result"
    }
   ],
   "source": [
    "'''\n",
    "from sklearn import preprocessing \n",
    "X = np.vstack((x_train,x_test))\n",
    "min_max_scaler = preprocessing.MinMaxScaler()\n",
    "X = min_max_scaler.fit_transform(X)\n",
    "x_train = X[0:len(x_train)]\n",
    "x_test = X[len(x_train):]\n",
    "'''"
   ]
  },
  {
   "cell_type": "code",
   "execution_count": 133,
   "metadata": {},
   "outputs": [
    {
     "data": {
      "text/plain": [
       "'\\nfrom sklearn import preprocessing\\n# normalize the data attributes\\nnormalized_X = preprocessing.normalize(X)\\n# standardize the data attributes\\nstandardized_X = preprocessing.scale(X)\\nx_train = X[0:len(x_train)]\\nx_test = X[len(x_train):]\\n'"
      ]
     },
     "execution_count": 133,
     "metadata": {},
     "output_type": "execute_result"
    }
   ],
   "source": [
    "'''\n",
    "from sklearn import preprocessing\n",
    "# normalize the data attributes\n",
    "normalized_X = preprocessing.normalize(X)\n",
    "# standardize the data attributes\n",
    "standardized_X = preprocessing.scale(X)\n",
    "x_train = X[0:len(x_train)]\n",
    "x_test = X[len(x_train):]\n",
    "'''"
   ]
  },
  {
   "cell_type": "code",
   "execution_count": 17,
   "metadata": {},
   "outputs": [
    {
     "data": {
      "text/plain": [
       "<matplotlib.axes._subplots.AxesSubplot at 0x1529887c0b8>"
      ]
     },
     "execution_count": 17,
     "metadata": {},
     "output_type": "execute_result"
    },
    {
     "data": {
      "image/png": "[encoded data removed]",
      "text/plain": [
       "<matplotlib.figure.Figure at 0x15298891dd8>"
      ]
     },
     "metadata": {},
     "output_type": "display_data"
    }
   ],
   "source": [
    "values_df.iloc[::,5].hist(bins=50, figsize=(16,12))"
   ]
  },
  {
   "cell_type": "code",
   "execution_count": null,
   "metadata": {
    "collapsed": true
   },
   "outputs": [],
   "source": [
    "import seaborn as sns\n",
    "plt.subplots(figsize=(16,9))\n",
    "correlation_mat = values_df.corr()\n",
    "sns.heatmap(correlation_mat, annot=True)"
   ]
  },
  {
   "cell_type": "markdown",
   "metadata": {},
   "source": [
    "### 2.3 KNN"
   ]
  },
  {
   "cell_type": "markdown",
   "metadata": {},
   "source": [
    "**KNN回归**"
   ]
  },
  {
   "cell_type": "code",
   "execution_count": 7,
   "metadata": {},
   "outputs": [
    {
     "data": {
      "text/plain": [
       "(500,)"
      ]
     },
     "execution_count": 7,
     "metadata": {},
     "output_type": "execute_result"
    }
   ],
   "source": [
    "y_train.shape"
   ]
  },
  {
   "cell_type": "code",
   "execution_count": 7,
   "metadata": {},
   "outputs": [
    {
     "name": "stdout",
     "output_type": "stream",
     "text": [
      "MSE = 0.036306\n"
     ]
    }
   ],
   "source": [
    "from sklearn.model_selection import LeaveOneOut\n",
    "from sklearn.metrics import mean_squared_error\n",
    "from sklearn import neighbors  \n",
    "\n",
    "reg = neighbors.KNeighborsRegressor(n_neighbors=5)\n",
    "num = list(range(y_train.shape[0]))\n",
    "\n",
    "loo = LeaveOneOut()\n",
    "mse = []\n",
    "for tr, val in loo.split(num):\n",
    "    reg.fit(x_train[tr], y_train[tr])  \n",
    "    y_pred = reg.predict(x_train[val])\n",
    "    mse.append(mean_squared_error(y_pred, y_train[val]))\n",
    "\n",
    "print(\"MSE = %f\"%(sum(mse)/len(mse)))"
   ]
  },
  {
   "cell_type": "code",
   "execution_count": 8,
   "metadata": {},
   "outputs": [
    {
     "data": {
      "text/plain": [
       "(array([ 2.78416721]), array([ 2.9260329]))"
      ]
     },
     "execution_count": 8,
     "metadata": {},
     "output_type": "execute_result"
    }
   ],
   "source": [
    "y_pred, y_train[val]"
   ]
  },
  {
   "cell_type": "code",
   "execution_count": 9,
   "metadata": {
    "collapsed": true
   },
   "outputs": [],
   "source": [
    "reg.fit(x_train,y_train)\n",
    "y_pred = reg.predict(x_test)"
   ]
  },
  {
   "cell_type": "code",
   "execution_count": 10,
   "metadata": {
    "scrolled": true
   },
   "outputs": [
    {
     "data": {
      "text/plain": [
       "array([ 2.61057637,  2.61057637,  2.78894771,  2.94075098,  2.78052814,\n",
       "        2.88786448,  2.81552779,  2.8412337 ,  2.81750404,  2.80406221,\n",
       "        2.66015124,  3.07038591,  2.75839412,  2.83517488,  2.975137  ,\n",
       "        2.84482137,  2.8802378 ,  2.86344715,  2.75681498,  2.68580636,\n",
       "        2.94457644,  2.70945217,  2.79963005,  2.69560688,  2.70945217,\n",
       "        2.81483191,  2.74195161,  2.7749339 ,  2.82388249,  2.82272918,\n",
       "        2.74399672,  2.88253139,  2.68598118,  2.79311981,  2.83738511,\n",
       "        2.88115034,  2.79471776,  2.79430456,  2.75015952,  2.88426369,\n",
       "        2.72698779,  2.85541871,  2.76417634,  2.85002832,  2.77368665,\n",
       "        2.81155259,  2.76748024,  2.74417818,  2.72229157,  2.75601581,\n",
       "        2.70749017,  2.97467853,  3.00205891,  2.71218007,  2.71473187,\n",
       "        2.67853694,  2.84399013,  2.8395072 ,  2.81496058,  2.93238491,\n",
       "        2.93744879,  2.79481604,  2.6638877 ,  2.89430919,  2.64271747,\n",
       "        2.80119287,  2.87898276,  2.78979973,  2.96594469,  2.71088433,\n",
       "        2.78979973,  2.65364635,  2.5983711 ,  2.71042818,  2.66015124,\n",
       "        2.88366977,  2.71850857,  2.59502752,  2.69735544,  2.99928773,\n",
       "        2.78489539,  2.79780148,  2.89087887,  2.81435487,  2.87777473,\n",
       "        2.78894771,  2.87292012,  2.94486561,  2.96082731,  2.85606567,\n",
       "        2.78715392,  2.78894771,  2.64245505,  2.84428264,  2.80307505,\n",
       "        2.68673784,  2.62441491,  2.71989528,  3.0913962 ,  2.71420148])"
      ]
     },
     "execution_count": 10,
     "metadata": {},
     "output_type": "execute_result"
    }
   ],
   "source": [
    "y_pred"
   ]
  },
  {
   "cell_type": "code",
   "execution_count": 11,
   "metadata": {
    "collapsed": true
   },
   "outputs": [],
   "source": [
    "sub_df = pd.read_csv('subA.csv',header=None)\n",
    "sub_df['Y'] = y_pred\n",
    "sub_df.to_csv('test_A4.csv',header=None,index=False)"
   ]
  },
  {
   "cell_type": "markdown",
   "metadata": {},
   "source": [
    "### 2.4 XGBOOST"
   ]
  },
  {
   "cell_type": "code",
   "execution_count": 69,
   "metadata": {
    "collapsed": true
   },
   "outputs": [],
   "source": [
    "import xgboost as xgb\n",
    "#dtrain = xgb.DMatrix(x_train[0:460,:],label = y_train[:460])\n",
    "#dtest = xgb.DMatrix(x_test,label = y_test)\n",
    "#dtest = xgb.DMatrix(x_train[460:,:],label = y_train[460:])\n",
    "from sklearn import cross_validation"
   ]
  },
  {
   "cell_type": "code",
   "execution_count": 70,
   "metadata": {},
   "outputs": [
    {
     "ename": "ValueError",
     "evalue": "Found input variables with inconsistent numbers of samples: [800, 680]",
     "output_type": "error",
     "traceback": [
      "\u001b[1;31m---------------------------------------------------------------------------\u001b[0m",
      "\u001b[1;31mValueError\u001b[0m                                Traceback (most recent call last)",
      "\u001b[1;32m<ipython-input-70-ff7d92395f8f>\u001b[0m in \u001b[0;36m<module>\u001b[1;34m()\u001b[0m\n\u001b[1;32m----> 1\u001b[1;33m \u001b[0mX_train\u001b[0m\u001b[1;33m,\u001b[0m \u001b[0mX_val\u001b[0m\u001b[1;33m,\u001b[0m \u001b[0my_train\u001b[0m\u001b[1;33m,\u001b[0m \u001b[0my_val\u001b[0m \u001b[1;33m=\u001b[0m \u001b[0mcross_validation\u001b[0m\u001b[1;33m.\u001b[0m\u001b[0mtrain_test_split\u001b[0m\u001b[1;33m(\u001b[0m\u001b[0mx_train\u001b[0m\u001b[1;33m,\u001b[0m \u001b[0my_train\u001b[0m\u001b[1;33m,\u001b[0m \u001b[0mtest_size\u001b[0m\u001b[1;33m=\u001b[0m\u001b[1;36m0.15\u001b[0m\u001b[1;33m,\u001b[0m \u001b[0mrandom_state\u001b[0m\u001b[1;33m=\u001b[0m\u001b[1;36m0\u001b[0m\u001b[1;33m)\u001b[0m\u001b[1;33m\u001b[0m\u001b[0m\n\u001b[0m",
      "\u001b[1;32mC:\\Program Files\\setup\\Anaconda\\lib\\site-packages\\sklearn\\cross_validation.py\u001b[0m in \u001b[0;36mtrain_test_split\u001b[1;34m(*arrays, **options)\u001b[0m\n\u001b[0;32m   2037\u001b[0m     \u001b[1;32mif\u001b[0m \u001b[0mtest_size\u001b[0m \u001b[1;32mis\u001b[0m \u001b[1;32mNone\u001b[0m \u001b[1;32mand\u001b[0m \u001b[0mtrain_size\u001b[0m \u001b[1;32mis\u001b[0m \u001b[1;32mNone\u001b[0m\u001b[1;33m:\u001b[0m\u001b[1;33m\u001b[0m\u001b[0m\n\u001b[0;32m   2038\u001b[0m         \u001b[0mtest_size\u001b[0m \u001b[1;33m=\u001b[0m \u001b[1;36m0.25\u001b[0m\u001b[1;33m\u001b[0m\u001b[0m\n\u001b[1;32m-> 2039\u001b[1;33m     \u001b[0marrays\u001b[0m \u001b[1;33m=\u001b[0m \u001b[0mindexable\u001b[0m\u001b[1;33m(\u001b[0m\u001b[1;33m*\u001b[0m\u001b[0marrays\u001b[0m\u001b[1;33m)\u001b[0m\u001b[1;33m\u001b[0m\u001b[0m\n\u001b[0m\u001b[0;32m   2040\u001b[0m     \u001b[1;32mif\u001b[0m \u001b[0mstratify\u001b[0m \u001b[1;32mis\u001b[0m \u001b[1;32mnot\u001b[0m \u001b[1;32mNone\u001b[0m\u001b[1;33m:\u001b[0m\u001b[1;33m\u001b[0m\u001b[0m\n\u001b[0;32m   2041\u001b[0m         cv = StratifiedShuffleSplit(stratify, test_size=test_size,\n",
      "\u001b[1;32mC:\\Program Files\\setup\\Anaconda\\lib\\site-packages\\sklearn\\utils\\validation.py\u001b[0m in \u001b[0;36mindexable\u001b[1;34m(*iterables)\u001b[0m\n\u001b[0;32m    204\u001b[0m         \u001b[1;32melse\u001b[0m\u001b[1;33m:\u001b[0m\u001b[1;33m\u001b[0m\u001b[0m\n\u001b[0;32m    205\u001b[0m             \u001b[0mresult\u001b[0m\u001b[1;33m.\u001b[0m\u001b[0mappend\u001b[0m\u001b[1;33m(\u001b[0m\u001b[0mnp\u001b[0m\u001b[1;33m.\u001b[0m\u001b[0marray\u001b[0m\u001b[1;33m(\u001b[0m\u001b[0mX\u001b[0m\u001b[1;33m)\u001b[0m\u001b[1;33m)\u001b[0m\u001b[1;33m\u001b[0m\u001b[0m\n\u001b[1;32m--> 206\u001b[1;33m     \u001b[0mcheck_consistent_length\u001b[0m\u001b[1;33m(\u001b[0m\u001b[1;33m*\u001b[0m\u001b[0mresult\u001b[0m\u001b[1;33m)\u001b[0m\u001b[1;33m\u001b[0m\u001b[0m\n\u001b[0m\u001b[0;32m    207\u001b[0m     \u001b[1;32mreturn\u001b[0m \u001b[0mresult\u001b[0m\u001b[1;33m\u001b[0m\u001b[0m\n\u001b[0;32m    208\u001b[0m \u001b[1;33m\u001b[0m\u001b[0m\n",
      "\u001b[1;32mC:\\Program Files\\setup\\Anaconda\\lib\\site-packages\\sklearn\\utils\\validation.py\u001b[0m in \u001b[0;36mcheck_consistent_length\u001b[1;34m(*arrays)\u001b[0m\n\u001b[0;32m    179\u001b[0m     \u001b[1;32mif\u001b[0m \u001b[0mlen\u001b[0m\u001b[1;33m(\u001b[0m\u001b[0muniques\u001b[0m\u001b[1;33m)\u001b[0m \u001b[1;33m>\u001b[0m \u001b[1;36m1\u001b[0m\u001b[1;33m:\u001b[0m\u001b[1;33m\u001b[0m\u001b[0m\n\u001b[0;32m    180\u001b[0m         raise ValueError(\"Found input variables with inconsistent numbers of\"\n\u001b[1;32m--> 181\u001b[1;33m                          \" samples: %r\" % [int(l) for l in lengths])\n\u001b[0m\u001b[0;32m    182\u001b[0m \u001b[1;33m\u001b[0m\u001b[0m\n\u001b[0;32m    183\u001b[0m \u001b[1;33m\u001b[0m\u001b[0m\n",
      "\u001b[1;31mValueError\u001b[0m: Found input variables with inconsistent numbers of samples: [800, 680]"
     ]
    }
   ],
   "source": [
    "X_train, X_val, y_train, y_val = cross_validation.train_test_split(x_train, y_train, test_size=0.15, random_state=0)"
   ]
  },
  {
   "cell_type": "code",
   "execution_count": 71,
   "metadata": {
    "collapsed": true
   },
   "outputs": [],
   "source": [
    "dtrain = xgb.DMatrix(x_train,label = y_train)\n",
    "#dtest = xgb.DMatrix(x_test,label = y_test)\n",
    "#dval = xgb.DMatrix(X_val,label = y_val)\n",
    "dtest = xgb.DMatrix(x_test,label = y_train[0:100])"
   ]
  },
  {
   "cell_type": "code",
   "execution_count": 72,
   "metadata": {
    "collapsed": true
   },
   "outputs": [],
   "source": [
    "# specify parameters via map\n",
    "param = {'max_depth':2, 'eta':0.1,'learning_rate':0.05, 'silent':1, 'objective':'reg:linear','eval_metric':'rmse' ,'lambda':200,'alpha':2}\n",
    "#param = {'eta':0.1,'learning_rate':0.05, 'silent':1,'booster':'gbliner', 'objective':'reg:linear','eval_metric':'rmse' ,'lambda':2,'alpha':2}\n",
    "\n",
    "# 设置boosting迭代计算次数\n",
    "num_round = 100"
   ]
  },
  {
   "cell_type": "code",
   "execution_count": null,
   "metadata": {
    "collapsed": true
   },
   "outputs": [],
   "source": [
    "from sklearn.metrics import mean_squared_error\n",
    "bst = xgb.train(param, dtrain, num_round) \n",
    "val_pred = bst.predict(dtest)\n",
    "train_pred = bst.predict(dtrain)\n",
    "train_mse=(mean_squared_error(train_pred, y_train))\n",
    "validation_mse=(mean_squared_error(val_pred, y_train[0:100]))\n",
    "print(\"train_MSE = %f\"%train_mse)\n",
    "print(\"validation_MSE = %f\"%validation_mse)"
   ]
  },
  {
   "cell_type": "code",
   "execution_count": 28,
   "metadata": {
    "collapsed": true
   },
   "outputs": [],
   "source": [
    "sub_df = pd.read_csv('subA.csv',header=None)\n",
    "sub_df['Y'] = val_pred\n",
    "sub_df.to_csv('test_A5.csv',header=None,index=False)"
   ]
  },
  {
   "cell_type": "code",
   "execution_count": 68,
   "metadata": {
    "collapsed": true
   },
   "outputs": [],
   "source": [
    "from sklearn.cross_validation import StratifiedKFold\n",
    "from sklearn.grid_search import GridSearchCV\n",
    "from sklearn.model_selection import ShuffleSplit\n",
    "\n",
    "xgb_model = xgb.XGBRegressor()\n",
    "parameters = {'objective':['reg:linear'],\n",
    "              'learning_rate': [0.05],\n",
    "              'max_depth': [5,6],\n",
    "              'min_child_weight':[11],\n",
    "             'silent':[1],\n",
    "             'n_estimators':[5]}"
   ]
  },
  {
   "cell_type": "code",
   "execution_count": 70,
   "metadata": {
    "scrolled": true
   },
   "outputs": [
    {
     "ename": "TypeError",
     "evalue": "object of type 'ShuffleSplit' has no len()",
     "output_type": "error",
     "traceback": [
      "\u001b[1;31m---------------------------------------------------------------------------\u001b[0m",
      "\u001b[1;31mTypeError\u001b[0m                                 Traceback (most recent call last)",
      "\u001b[1;32m<ipython-input-70-dc495083210f>\u001b[0m in \u001b[0;36m<module>\u001b[1;34m()\u001b[0m\n\u001b[0;32m      4\u001b[0m                   \u001b[0mscoring\u001b[0m\u001b[1;33m=\u001b[0m\u001b[1;34m'neg_mean_squared_error'\u001b[0m\u001b[1;33m,\u001b[0m\u001b[1;33m\u001b[0m\u001b[0m\n\u001b[0;32m      5\u001b[0m                   verbose=2, refit=True)\n\u001b[1;32m----> 6\u001b[1;33m \u001b[0mclf\u001b[0m\u001b[1;33m.\u001b[0m\u001b[0mfit\u001b[0m\u001b[1;33m(\u001b[0m\u001b[0mx_train\u001b[0m\u001b[1;33m,\u001b[0m \u001b[0my_train\u001b[0m\u001b[1;33m.\u001b[0m\u001b[0mtolist\u001b[0m\u001b[1;33m(\u001b[0m\u001b[1;33m)\u001b[0m\u001b[1;33m)\u001b[0m\u001b[1;33m\u001b[0m\u001b[0m\n\u001b[0m",
      "\u001b[1;32mD:\\setup\\Anaconda3\\lib\\site-packages\\sklearn\\grid_search.py\u001b[0m in \u001b[0;36mfit\u001b[1;34m(self, X, y)\u001b[0m\n\u001b[0;32m    827\u001b[0m \u001b[1;33m\u001b[0m\u001b[0m\n\u001b[0;32m    828\u001b[0m         \"\"\"\n\u001b[1;32m--> 829\u001b[1;33m         \u001b[1;32mreturn\u001b[0m \u001b[0mself\u001b[0m\u001b[1;33m.\u001b[0m\u001b[0m_fit\u001b[0m\u001b[1;33m(\u001b[0m\u001b[0mX\u001b[0m\u001b[1;33m,\u001b[0m \u001b[0my\u001b[0m\u001b[1;33m,\u001b[0m \u001b[0mParameterGrid\u001b[0m\u001b[1;33m(\u001b[0m\u001b[0mself\u001b[0m\u001b[1;33m.\u001b[0m\u001b[0mparam_grid\u001b[0m\u001b[1;33m)\u001b[0m\u001b[1;33m)\u001b[0m\u001b[1;33m\u001b[0m\u001b[0m\n\u001b[0m\u001b[0;32m    830\u001b[0m \u001b[1;33m\u001b[0m\u001b[0m\n\u001b[0;32m    831\u001b[0m \u001b[1;33m\u001b[0m\u001b[0m\n",
      "\u001b[1;32mD:\\setup\\Anaconda3\\lib\\site-packages\\sklearn\\grid_search.py\u001b[0m in \u001b[0;36m_fit\u001b[1;34m(self, X, y, parameter_iterable)\u001b[0m\n\u001b[0;32m    556\u001b[0m                 \u001b[0mn_candidates\u001b[0m \u001b[1;33m=\u001b[0m \u001b[0mlen\u001b[0m\u001b[1;33m(\u001b[0m\u001b[0mparameter_iterable\u001b[0m\u001b[1;33m)\u001b[0m\u001b[1;33m\u001b[0m\u001b[0m\n\u001b[0;32m    557\u001b[0m                 print(\"Fitting {0} folds for each of {1} candidates, totalling\"\n\u001b[1;32m--> 558\u001b[1;33m                       \" {2} fits\".format(len(cv), n_candidates,\n\u001b[0m\u001b[0;32m    559\u001b[0m                                          n_candidates * len(cv)))\n\u001b[0;32m    560\u001b[0m \u001b[1;33m\u001b[0m\u001b[0m\n",
      "\u001b[1;31mTypeError\u001b[0m: object of type 'ShuffleSplit' has no len()"
     ]
    }
   ],
   "source": [
    "cv_sets = ShuffleSplit(n_splits = 10, test_size = 0.20, random_state = 0)\n",
    "clf = GridSearchCV(xgb_model, param_grid=parameters,\n",
    "                  cv=cv_sets,\n",
    "                  scoring='neg_mean_squared_error',\n",
    "                  verbose=2, refit=True)\n",
    "clf.fit(x_train, y_train)"
   ]
  },
  {
   "cell_type": "code",
   "execution_count": 1,
   "metadata": {},
   "outputs": [
    {
     "ename": "NameError",
     "evalue": "name 'y_train' is not defined",
     "output_type": "error",
     "traceback": [
      "\u001b[1;31m---------------------------------------------------------------------------\u001b[0m",
      "\u001b[1;31mNameError\u001b[0m                                 Traceback (most recent call last)",
      "\u001b[1;32m<ipython-input-1-b8e2a279a9bb>\u001b[0m in \u001b[0;36m<module>\u001b[1;34m()\u001b[0m\n\u001b[0;32m      2\u001b[0m \u001b[1;32mfrom\u001b[0m \u001b[0msklearn\u001b[0m\u001b[1;33m.\u001b[0m\u001b[0mmetrics\u001b[0m \u001b[1;32mimport\u001b[0m \u001b[0mmean_squared_error\u001b[0m\u001b[1;33m\u001b[0m\u001b[0m\n\u001b[0;32m      3\u001b[0m \u001b[1;32mfrom\u001b[0m \u001b[0msklearn\u001b[0m\u001b[1;33m.\u001b[0m\u001b[0mmodel_selection\u001b[0m \u001b[1;32mimport\u001b[0m \u001b[0mStratifiedKFold\u001b[0m\u001b[1;33m\u001b[0m\u001b[0m\n\u001b[1;32m----> 4\u001b[1;33m \u001b[0mnum\u001b[0m \u001b[1;33m=\u001b[0m \u001b[0mlist\u001b[0m\u001b[1;33m(\u001b[0m\u001b[0mrange\u001b[0m\u001b[1;33m(\u001b[0m\u001b[0my_train\u001b[0m\u001b[1;33m.\u001b[0m\u001b[0mshape\u001b[0m\u001b[1;33m[\u001b[0m\u001b[1;36m0\u001b[0m\u001b[1;33m]\u001b[0m\u001b[1;33m)\u001b[0m\u001b[1;33m)\u001b[0m\u001b[1;33m\u001b[0m\u001b[0m\n\u001b[0m\u001b[0;32m      5\u001b[0m \u001b[0mskf\u001b[0m \u001b[1;33m=\u001b[0m \u001b[0mStratifiedKFold\u001b[0m\u001b[1;33m(\u001b[0m\u001b[0mn_splits\u001b[0m\u001b[1;33m=\u001b[0m\u001b[1;36m5\u001b[0m\u001b[1;33m)\u001b[0m\u001b[1;33m\u001b[0m\u001b[0m\n\u001b[0;32m      6\u001b[0m \u001b[0mskf\u001b[0m\u001b[1;33m.\u001b[0m\u001b[0mget_n_splits\u001b[0m\u001b[1;33m(\u001b[0m\u001b[0mx_train\u001b[0m\u001b[1;33m,\u001b[0m \u001b[0my_train\u001b[0m\u001b[1;33m)\u001b[0m\u001b[1;33m\u001b[0m\u001b[0m\n",
      "\u001b[1;31mNameError\u001b[0m: name 'y_train' is not defined"
     ]
    }
   ],
   "source": [
    "from sklearn.model_selection import LeaveOneOut\n",
    "from sklearn.metrics import mean_squared_error\n",
    "from sklearn.model_selection import StratifiedKFold\n",
    "num = list(range(y_train.shape[0]))\n",
    "skf = StratifiedKFold(n_splits=5)\n",
    "skf.get_n_splits(x_train, y_train)\n",
    "loo = LeaveOneOut()\n",
    "mse = []\n",
    "for tr, val in loo.split(num):\n",
    "    dtrain = xgb.DMatrix(x_train[tr],label = y_train[tr])\n",
    "    #dtest = xgb.DMatrix(x_test,label = y_test)\n",
    "    dval = xgb.DMatrix(x_train[val],label = y_train[val])\n",
    "    bst = xgb.train(param, dtrain, num_round) \n",
    "    val_pred = bst.predict(dval)\n",
    "    mse.append(mean_squared_error(val_pred, y_train[val]))\n",
    "    print(val)\n",
    "print(\"MSE = %f\"%(sum(mse)/len(mse)))"
   ]
  },
  {
   "cell_type": "code",
   "execution_count": 50,
   "metadata": {},
   "outputs": [
    {
     "data": {
      "text/plain": [
       "(array([ 2.61057637,  2.61057637,  2.78894771,  2.94075098,  2.78052814,\n",
       "         2.88786448,  2.81552779,  2.8412337 ,  2.81750404,  2.80406221,\n",
       "         2.66015124,  3.07038591,  2.75839412,  2.83517488,  2.975137  ,\n",
       "         2.84482137,  2.8802378 ,  2.86344715,  2.75681498,  2.68580636,\n",
       "         2.94457644,  2.70945217,  2.79963005,  2.69560688,  2.70945217,\n",
       "         2.81483191,  2.74195161,  2.7749339 ,  2.82388249,  2.82272918,\n",
       "         2.74399672,  2.88253139,  2.68598118,  2.79311981,  2.83738511,\n",
       "         2.88115034,  2.79471776,  2.79430456,  2.75015952,  2.88426369,\n",
       "         2.72698779,  2.85541871,  2.76417634,  2.85002832,  2.77368665,\n",
       "         2.81155259,  2.76748024,  2.74417818,  2.72229157,  2.75601581,\n",
       "         2.70749017,  2.97467853,  3.00205891,  2.71218007,  2.71473187,\n",
       "         2.67853694,  2.84399013,  2.8395072 ,  2.81496058,  2.93238491,\n",
       "         2.93744879,  2.79481604,  2.6638877 ,  2.89430919,  2.64271747,\n",
       "         2.80119287,  2.87898276,  2.78979973,  2.96594469,  2.71088433,\n",
       "         2.78979973,  2.65364635,  2.5983711 ,  2.71042818,  2.66015124,\n",
       "         2.88366977,  2.71850857,  2.59502752,  2.69735544,  2.99928773,\n",
       "         2.78489539,  2.79780148,  2.89087887,  2.81435487,  2.87777473,\n",
       "         2.78894771,  2.87292012,  2.94486561,  2.96082731,  2.85606567,\n",
       "         2.78715392,  2.78894771,  2.64245505,  2.84428264,  2.80307505,\n",
       "         2.68673784,  2.62441491,  2.71989528,  3.0913962 ,  2.71420148]),\n",
       " array([ 2.94507888]))"
      ]
     },
     "execution_count": 50,
     "metadata": {},
     "output_type": "execute_result"
    }
   ],
   "source": [
    "y_pred, y_train[val]"
   ]
  },
  {
   "cell_type": "code",
   "execution_count": 224,
   "metadata": {},
   "outputs": [
    {
     "name": "stdout",
     "output_type": "stream",
     "text": [
      "0.0133584718704\n"
     ]
    }
   ],
   "source": [
    "train_pred = bst.predict(dtrain)\n",
    "#train_predictions = [round(value) for value in train_preds]\n",
    "y_train1 = dtrain.get_label()\n",
    "#train_accuracy = accuracy_score(y_train, train_predictions)\n",
    "#print (\"Train Accuary: %.2f%%\" % (train_accuracy * 100.0))\n",
    "mse = 1/500 * np.sum(np.square(y_train1-train_pred))\n",
    "print(mse)"
   ]
  },
  {
   "cell_type": "code",
   "execution_count": 225,
   "metadata": {
    "scrolled": true
   },
   "outputs": [
    {
     "data": {
      "text/plain": [
       "array([ 2.77278913,  2.782469  ,  3.31040605,  2.84601751,  2.95788437,\n",
       "        3.22707774,  2.65260576,  2.93532712,  2.88298069,  2.74874291,\n",
       "        2.87732058,  2.78536975,  2.64594474,  2.80316417,  2.56330528,\n",
       "        3.12929649,  2.75976702,  3.06259109,  2.83297147,  2.93598543,\n",
       "        2.89830038,  3.02749429,  2.91570109,  3.11237871,  2.64958246,\n",
       "        2.60694199,  2.85853727,  2.6319409 ,  3.02939638,  2.84612516,\n",
       "        3.02446789,  3.05155672,  3.05495253,  2.93741112,  2.88116379,\n",
       "        2.88574334,  2.62334152,  3.0151373 ,  2.75328635,  2.9260329 ])"
      ]
     },
     "execution_count": 225,
     "metadata": {},
     "output_type": "execute_result"
    }
   ],
   "source": [
    "y_test"
   ]
  },
  {
   "cell_type": "code",
   "execution_count": 226,
   "metadata": {
    "scrolled": true
   },
   "outputs": [
    {
     "name": "stdout",
     "output_type": "stream",
     "text": [
      "0.0382936394885\n"
     ]
    }
   ],
   "source": [
    "# make prediction\n",
    "y_test = y_train[460:]\n",
    "test_preds = bst.predict(dtest)\n",
    "mse_test = 1/(y_test.shape[0]) * np.sum(np.square(y_test-test_preds))\n",
    "print(mse_test)"
   ]
  },
  {
   "cell_type": "code",
   "execution_count": 215,
   "metadata": {
    "scrolled": true
   },
   "outputs": [
    {
     "data": {
      "text/plain": [
       "array([ 2.77278913,  2.782469  ,  3.31040605,  2.84601751,  2.95788437,\n",
       "        3.22707774,  2.65260576,  2.93532712,  2.88298069,  2.74874291,\n",
       "        2.87732058,  2.78536975,  2.64594474,  2.80316417,  2.56330528,\n",
       "        3.12929649,  2.75976702,  3.06259109,  2.83297147,  2.93598543,\n",
       "        2.89830038,  3.02749429,  2.91570109,  3.11237871,  2.64958246,\n",
       "        2.60694199,  2.85853727,  2.6319409 ,  3.02939638,  2.84612516,\n",
       "        3.02446789,  3.05155672,  3.05495253,  2.93741112,  2.88116379,\n",
       "        2.88574334,  2.62334152,  3.0151373 ,  2.75328635,  2.9260329 ])"
      ]
     },
     "execution_count": 215,
     "metadata": {},
     "output_type": "execute_result"
    }
   ],
   "source": [
    "y_test"
   ]
  },
  {
   "cell_type": "code",
   "execution_count": 65,
   "metadata": {
    "scrolled": true
   },
   "outputs": [
    {
     "ename": "NameError",
     "evalue": "name 'test_preds' is not defined",
     "output_type": "error",
     "traceback": [
      "\u001b[1;31m---------------------------------------------------------------------------\u001b[0m",
      "\u001b[1;31mNameError\u001b[0m                                 Traceback (most recent call last)",
      "\u001b[1;32m<ipython-input-65-03079a58a099>\u001b[0m in \u001b[0;36m<module>\u001b[1;34m()\u001b[0m\n\u001b[1;32m----> 1\u001b[1;33m \u001b[0mtest_preds\u001b[0m\u001b[1;33m\u001b[0m\u001b[0m\n\u001b[0m",
      "\u001b[1;31mNameError\u001b[0m: name 'test_preds' is not defined"
     ]
    }
   ],
   "source": [
    "test_preds"
   ]
  },
  {
   "cell_type": "code",
   "execution_count": 64,
   "metadata": {},
   "outputs": [
    {
     "ename": "NameError",
     "evalue": "name 'test_preds' is not defined",
     "output_type": "error",
     "traceback": [
      "\u001b[1;31m---------------------------------------------------------------------------\u001b[0m",
      "\u001b[1;31mNameError\u001b[0m                                 Traceback (most recent call last)",
      "\u001b[1;32m<ipython-input-64-edd3bdd168cd>\u001b[0m in \u001b[0;36m<module>\u001b[1;34m()\u001b[0m\n\u001b[0;32m      1\u001b[0m \u001b[0msub_df\u001b[0m \u001b[1;33m=\u001b[0m \u001b[0mpd\u001b[0m\u001b[1;33m.\u001b[0m\u001b[0mread_csv\u001b[0m\u001b[1;33m(\u001b[0m\u001b[1;34m'subA.csv'\u001b[0m\u001b[1;33m,\u001b[0m\u001b[0mheader\u001b[0m\u001b[1;33m=\u001b[0m\u001b[1;32mNone\u001b[0m\u001b[1;33m)\u001b[0m\u001b[1;33m\u001b[0m\u001b[0m\n\u001b[1;32m----> 2\u001b[1;33m \u001b[0msub_df\u001b[0m\u001b[1;33m[\u001b[0m\u001b[1;34m'Y'\u001b[0m\u001b[1;33m]\u001b[0m \u001b[1;33m=\u001b[0m \u001b[0mtest_preds\u001b[0m\u001b[1;33m\u001b[0m\u001b[0m\n\u001b[0m\u001b[0;32m      3\u001b[0m \u001b[0msub_df\u001b[0m\u001b[1;33m.\u001b[0m\u001b[0mto_csv\u001b[0m\u001b[1;33m(\u001b[0m\u001b[1;34m'test_A3.csv'\u001b[0m\u001b[1;33m,\u001b[0m\u001b[0mheader\u001b[0m\u001b[1;33m=\u001b[0m\u001b[1;32mNone\u001b[0m\u001b[1;33m,\u001b[0m\u001b[0mindex\u001b[0m\u001b[1;33m=\u001b[0m\u001b[1;32mFalse\u001b[0m\u001b[1;33m)\u001b[0m\u001b[1;33m\u001b[0m\u001b[0m\n",
      "\u001b[1;31mNameError\u001b[0m: name 'test_preds' is not defined"
     ]
    }
   ],
   "source": [
    "sub_df = pd.read_csv('subA.csv',header=None)\n",
    "sub_df['Y'] = test_preds\n",
    "sub_df.to_csv('test_A3.csv',header=None,index=False)"
   ]
  },
  {
   "cell_type": "markdown",
   "metadata": {},
   "source": [
    "**特征重要度排序**"
   ]
  },
  {
   "cell_type": "code",
   "execution_count": 176,
   "metadata": {},
   "outputs": [
    {
     "data": {
      "text/plain": [
       "XGBRegressor(base_score=0.5, booster='gbtree', colsample_bylevel=1,\n",
       "       colsample_bytree=1, gamma=0, learning_rate=0.1, max_delta_step=0,\n",
       "       max_depth=3, min_child_weight=1, missing=None, n_estimators=100,\n",
       "       n_jobs=1, nthread=None, objective='reg:linear', random_state=0,\n",
       "       reg_alpha=0, reg_lambda=1, scale_pos_weight=1, seed=None,\n",
       "       silent=True, subsample=1)"
      ]
     },
     "execution_count": 176,
     "metadata": {},
     "output_type": "execute_result"
    }
   ],
   "source": []
  },
  {
   "cell_type": "code",
   "execution_count": 180,
   "metadata": {},
   "outputs": [
    {
     "data": {
      "image/png": "[encoded data removed]",
      "text/plain": [
       "<matplotlib.figure.Figure at 0x218ed654da0>"
      ]
     },
     "metadata": {},
     "output_type": "display_data"
    },
    {
     "name": "stdout",
     "output_type": "stream",
     "text": [
      "[ 0.04066543  0.00184843  0.02033272  0.          0.          0.012939\n",
      "  0.00369686  0.012939    0.00184843  0.04621072  0.03142329  0.00739372\n",
      "  0.00924214  0.02033272  0.01109057  0.02772643  0.02957486  0.00369686\n",
      "  0.00739372  0.00554529  0.00554529  0.00554529  0.00554529  0.02957486\n",
      "  0.012939    0.          0.00184843  0.01478743  0.00369686  0.00739372\n",
      "  0.03512015  0.          0.00739372  0.01848429  0.00369686  0.00739372\n",
      "  0.          0.00554529  0.00184843  0.          0.          0.\n",
      "  0.00369686  0.00369686  0.          0.01109057  0.00369686  0.00369686\n",
      "  0.00184843  0.          0.          0.          0.00554529  0.          0.\n",
      "  0.00369686  0.          0.00369686  0.          0.025878    0.05545286\n",
      "  0.00184843  0.00554529  0.00369686  0.00739372  0.00369686  0.\n",
      "  0.00369686  0.00369686  0.00739372  0.01663586  0.00739372  0.01478743\n",
      "  0.00739372  0.          0.00554529  0.00184843  0.          0.          0.\n",
      "  0.          0.          0.          0.03327172  0.01109057  0.00739372\n",
      "  0.00184843  0.          0.00184843  0.00369686  0.          0.012939\n",
      "  0.01109057  0.00184843  0.00184843  0.00739372  0.02957486  0.00369686\n",
      "  0.00924214  0.          0.          0.00924214  0.01109057  0.00369686\n",
      "  0.00554529  0.01848429  0.00739372  0.00924214  0.00369686  0.\n",
      "  0.00924214  0.          0.          0.          0.          0.00369686\n",
      "  0.00184843  0.          0.          0.02957486  0.02033272  0.00739372\n",
      "  0.          0.00739372  0.          0.00739372  0.02772643  0.00369686\n",
      "  0.          0.00369686]\n"
     ]
    },
    {
     "data": {
      "text/plain": [
       "<matplotlib.figure.Figure at 0x218ed6433c8>"
      ]
     },
     "metadata": {},
     "output_type": "display_data"
    }
   ],
   "source": [
    "from xgboost import plot_importance\n",
    "import matplotlib.pyplot as pyplot\n",
    "from xgboost import XGBRegressor\n",
    "from sklearn import metrics\n",
    "model_XGB=XGBRegressor()\n",
    "model_XGB.fit(x_train,y_train)\n",
    "plot_importance(model_XGB)\n",
    "pyplot.show()\n",
    "pyplot.savefig('D:\\\\feture_importance.svg',format='svg')\n",
    "print(model_XGB.feature_importances_)"
   ]
  },
  {
   "cell_type": "markdown",
   "metadata": {},
   "source": [
    "### 2.4 结果导出到文件"
   ]
  },
  {
   "cell_type": "code",
   "execution_count": 136,
   "metadata": {
    "collapsed": true
   },
   "outputs": [],
   "source": [
    "sub_df = pd.read_csv('subA.csv',header=None)\n",
    "sub_df['Y3'] = y_pred\n",
    "sub_df.to_csv('github1.csv',header=None,index=False)"
   ]
  },
  {
   "cell_type": "code",
   "execution_count": 106,
   "metadata": {},
   "outputs": [
    {
     "data": {
      "text/plain": [
       "(100,)"
      ]
     },
     "execution_count": 106,
     "metadata": {},
     "output_type": "execute_result"
    }
   ],
   "source": [
    "answer.shape"
   ]
  },
  {
   "cell_type": "code",
   "execution_count": 110,
   "metadata": {
    "collapsed": true
   },
   "outputs": [],
   "source": [
    "sub = []\n",
    "for i in range(100):\n",
    "    if answer[i] == 1:\n",
    "        sub.append (2.50)\n",
    "    elif answer[i] == 2:\n",
    "        sub.append(2.62)\n",
    "    elif answer[i] == 3:\n",
    "        sub.append(2.7)\n",
    "    elif answer[i] == 4:\n",
    "        sub.append(2.75)\n",
    "    elif answer[i] == 5:\n",
    "        sub.append(2.80)\n",
    "    elif answer[i] == 6:\n",
    "        sub.append(2.85)\n",
    "    elif answer[i] == 7:\n",
    "        sub.append(2.90)\n",
    "    elif answer[i] == 8:\n",
    "        sub.append(2.96)\n",
    "    elif answer[i] == 9:\n",
    "        sub.append(3.06)\n",
    "    elif answer[i] == 10:\n",
    "        sub.append(3.16)"
   ]
  },
  {
   "cell_type": "code",
   "execution_count": null,
   "metadata": {
    "collapsed": true
   },
   "outputs": [],
   "source": []
  }
 ],
 "metadata": {
  "kernelspec": {
   "display_name": "Python 3",
   "language": "python",
   "name": "python3"
  },
  "language_info": {
   "codemirror_mode": {
    "name": "ipython",
    "version": 3
   },
   "file_extension": ".py",
   "mimetype": "text/x-python",
   "name": "python",
   "nbconvert_exporter": "python",
   "pygments_lexer": "ipython3",
   "version": "3.6.1"
  }
 },
 "nbformat": 4,
 "nbformat_minor": 2
}
